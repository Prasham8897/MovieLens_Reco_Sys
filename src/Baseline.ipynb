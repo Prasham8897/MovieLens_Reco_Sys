{
  "nbformat": 4,
  "nbformat_minor": 0,
  "metadata": {
    "colab": {
      "name": "Preliminary Analysis and Baseline.ipynb",
      "provenance": []
    },
    "kernelspec": {
      "name": "python3",
      "display_name": "Python 3"
    }
  },
  "cells": [
    {
      "cell_type": "code",
      "metadata": {
        "id": "JaEAlQOwHir4",
        "colab_type": "code",
        "outputId": "5aaeb5b4-88d3-41e4-f65d-a4a1cc05814a",
        "colab": {
          "base_uri": "https://localhost:8080/",
          "height": 124
        }
      },
      "source": [
        "from google.colab import drive\n",
        "drive.mount('/content/drive/', force_remount=True)"
      ],
      "execution_count": 0,
      "outputs": [
        {
          "output_type": "stream",
          "text": [
            "Go to this URL in a browser: https://accounts.google.com/o/oauth2/auth?client_id=947318989803-6bn6qk8qdgf4n4g3pfee6491hc0brc4i.apps.googleusercontent.com&redirect_uri=urn%3Aietf%3Awg%3Aoauth%3A2.0%3Aoob&scope=email%20https%3A%2F%2Fwww.googleapis.com%2Fauth%2Fdocs.test%20https%3A%2F%2Fwww.googleapis.com%2Fauth%2Fdrive%20https%3A%2F%2Fwww.googleapis.com%2Fauth%2Fdrive.photos.readonly%20https%3A%2F%2Fwww.googleapis.com%2Fauth%2Fpeopleapi.readonly&response_type=code\n",
            "\n",
            "Enter your authorization code:\n",
            "··········\n",
            "Mounted at /content/drive/\n"
          ],
          "name": "stdout"
        }
      ]
    },
    {
      "cell_type": "markdown",
      "metadata": {
        "id": "ZhoNPS8Blu6X",
        "colab_type": "text"
      },
      "source": [
        "# Preliminary Analysis of Data."
      ]
    },
    {
      "cell_type": "code",
      "metadata": {
        "id": "kfLQozguilWP",
        "colab_type": "code",
        "outputId": "8520cb30-7191-449f-99ed-f57aa2e68d07",
        "colab": {
          "base_uri": "https://localhost:8080/",
          "height": 313
        }
      },
      "source": [
        "import pandas as pd\n",
        "import matplotlib.pyplot as plt\n",
        "ratingsData = pd.read_csv(\"/content/drive/My Drive/ml-20m/ratings.csv\")\n",
        "ratingsData_1 = ratingsData.groupby('movieId').count().reset_index()\n",
        "ratingsData_2 = pd.DataFrame()\n",
        "ratingsData_2['movieId'] = ratingsData_1['movieId']\n",
        "ratingsData_2['count'] = ratingsData_1['userId']\n",
        "plt.plot(ratingsData_2['movieId'], ratingsData_2['count'])\n",
        "plt.xlabel(\"Movie ID\")\n",
        "plt.ylabel(\"No of Ratings\")\n",
        "plt.title('Movies and their corresponding number of ratings')"
      ],
      "execution_count": 0,
      "outputs": [
        {
          "output_type": "execute_result",
          "data": {
            "text/plain": [
              "Text(0.5, 1.0, 'Movies and their corresponding number of ratings')"
            ]
          },
          "metadata": {
            "tags": []
          },
          "execution_count": 6
        },
        {
          "output_type": "display_data",
          "data": {
            "image/png": "[encoded data removed]",
            "text/plain": [
              "<Figure size 432x288 with 1 Axes>"
            ]
          },
          "metadata": {
            "tags": []
          }
        }
      ]
    },
    {
      "cell_type": "markdown",
      "metadata": {
        "id": "weR1hmGHl5YF",
        "colab_type": "text"
      },
      "source": [
        "As seen in the plot, the majority chunk of data is contained on the left side of the plot, that is the movies that have been rated more number to times. So to sample our data we have taken the most popular movies (that is the movies that are rated more than a certain number of times).\n",
        "\n"
      ]
    },
    {
      "cell_type": "code",
      "metadata": {
        "id": "UuFqtuHJkJxl",
        "colab_type": "code",
        "outputId": "7a570370-2067-4b6e-978a-e0c44f890913",
        "colab": {
          "base_uri": "https://localhost:8080/",
          "height": 313
        }
      },
      "source": [
        "ratingsDataUserCount = ratingsData.groupby('userId').count().reset_index()\n",
        "ratingsDataUserCount_1 = pd.DataFrame()\n",
        "ratingsDataUserCount_1['userId'] = ratingsDataUserCount['userId']\n",
        "ratingsDataUserCount_1['count'] = ratingsDataUserCount['movieId']\n",
        "\n",
        "plt.plot(ratingsDataUserCount_1['userId'], ratingsDataUserCount_1['count'])\n",
        "plt.xlabel(\"User ID\")\n",
        "plt.ylabel(\"No of times the Users have rated\")\n",
        "plt.title('Users and their corresponding number of time they have rated')"
      ],
      "execution_count": 0,
      "outputs": [
        {
          "output_type": "execute_result",
          "data": {
            "text/plain": [
              "Text(0.5, 1.0, 'Users and their corresponding number of time they have rated')"
            ]
          },
          "metadata": {
            "tags": []
          },
          "execution_count": 7
        },
        {
          "output_type": "display_data",
          "data": {
            "image/png": "[encoded data removed]",
            "text/plain": [
              "<Figure size 432x288 with 1 Axes>"
            ]
          },
          "metadata": {
            "tags": []
          }
        }
      ]
    },
    {
      "cell_type": "markdown",
      "metadata": {
        "id": "I9XfYJCGmzNc",
        "colab_type": "text"
      },
      "source": [
        "We can see that major number of users have rated few times.\n",
        "Therefore considering our desired sample size and our business model we have take the most active users i.e users that have rated more than 1500 times. \n"
      ]
    },
    {
      "cell_type": "code",
      "metadata": {
        "id": "rzdFEmqkHv0J",
        "colab_type": "code",
        "outputId": "daa86ce2-aea5-4294-8ca9-88b5c7d5c9fc",
        "colab": {
          "base_uri": "https://localhost:8080/",
          "height": 295
        }
      },
      "source": [
        "!apt-get install openjdk-8-jdk-headless -qq > /dev/null\n",
        "!wget -q http://apache.osuosl.org/spark/spark-2.4.4/spark-2.4.4-bin-hadoop2.7.tgz\n",
        "!tar xf spark-2.4.4-bin-hadoop2.7.tgz\n",
        "!pip install -q findspark\n",
        "\n",
        "import os\n",
        "os.environ[\"JAVA_HOME\"] = \"/usr/lib/jvm/java-8-openjdk-amd64\"\n",
        "os.environ[\"SPARK_HOME\"] = \"/content/spark-2.4.4-bin-hadoop2.7\"\n",
        "\n",
        "!java -version\n",
        "!sudo update-alternatives --config java\n",
        "!java -version"
      ],
      "execution_count": 0,
      "outputs": [
        {
          "output_type": "stream",
          "text": [
            "openjdk version \"11.0.4\" 2019-07-16\n",
            "OpenJDK Runtime Environment (build 11.0.4+11-post-Ubuntu-1ubuntu218.04.3)\n",
            "OpenJDK 64-Bit Server VM (build 11.0.4+11-post-Ubuntu-1ubuntu218.04.3, mixed mode, sharing)\n",
            "There are 2 choices for the alternative java (providing /usr/bin/java).\n",
            "\n",
            "  Selection    Path                                            Priority   Status\n",
            "------------------------------------------------------------\n",
            "* 0            /usr/lib/jvm/java-11-openjdk-amd64/bin/java      1111      auto mode\n",
            "  1            /usr/lib/jvm/java-11-openjdk-amd64/bin/java      1111      manual mode\n",
            "  2            /usr/lib/jvm/java-8-openjdk-amd64/jre/bin/java   1081      manual mode\n",
            "\n",
            "Press <enter> to keep the current choice[*], or type selection number: 2\n",
            "update-alternatives: using /usr/lib/jvm/java-8-openjdk-amd64/jre/bin/java to provide /usr/bin/java (java) in manual mode\n",
            "openjdk version \"1.8.0_222\"\n",
            "OpenJDK Runtime Environment (build 1.8.0_222-8u222-b10-1ubuntu1~18.04.1-b10)\n",
            "OpenJDK 64-Bit Server VM (build 25.222-b10, mixed mode)\n"
          ],
          "name": "stdout"
        }
      ]
    },
    {
      "cell_type": "code",
      "metadata": {
        "id": "PqDjjiH7H4b4",
        "colab_type": "code",
        "colab": {}
      },
      "source": [
        "import findspark\n",
        "findspark.init()\n",
        "from pyspark.sql import SparkSession\n",
        "spark = SparkSession.builder.master(\"local[*]\").getOrCreate()"
      ],
      "execution_count": 0,
      "outputs": []
    },
    {
      "cell_type": "code",
      "metadata": {
        "id": "MxGsT3MGIDUn",
        "colab_type": "code",
        "colab": {}
      },
      "source": [
        "#importing libraries for spark mllib \n",
        "from pyspark.ml import Pipeline\n",
        "from pyspark.ml.classification import DecisionTreeClassifier\n",
        "from pyspark.ml.feature import StringIndexer, VectorIndexer\n",
        "from pyspark.ml.evaluation import MulticlassClassificationEvaluator\n",
        "from pyspark.ml.feature import OneHotEncoder, StringIndexer\n",
        "from pyspark.ml.evaluation import RegressionEvaluator\n",
        "from pyspark.ml.recommendation import ALS\n",
        "from pyspark.sql import Row"
      ],
      "execution_count": 0,
      "outputs": []
    },
    {
      "cell_type": "code",
      "metadata": {
        "id": "4ctdxOm0YVW3",
        "colab_type": "code",
        "colab": {}
      },
      "source": [
        "moviesData = spark.read.load(\"/content/drive/My Drive/ml-20m/movies.csv\",format=\"csv\",header=True,inferSchema=True)\n",
        "ratingsData = spark.read.load(\"/content/drive/My Drive/ml-20m/ratings.csv\",format=\"csv\",header=True,inferSchema=True)\n",
        "ratingsData.groupBy('movieId')"
      ],
      "execution_count": 0,
      "outputs": []
    },
    {
      "cell_type": "markdown",
      "metadata": {
        "id": "lt-XKA9DYJrR",
        "colab_type": "text"
      },
      "source": [
        "# Sample 1:  Ratings of the top 500 movies from users that have rated more than 1500 movies\n"
      ]
    },
    {
      "cell_type": "code",
      "metadata": {
        "id": "G9M3JMC-YIkz",
        "colab_type": "code",
        "colab": {}
      },
      "source": [
        "ratingsDataByCount = ratingsData.groupby('movieId').count()\n",
        "ratingsDataByCount = ratingsDataByCount.sort('count', ascending=False)\n",
        "\n",
        "#selecting the top 500 most popular movie \n",
        "ratingsDataByCount = ratingsDataByCount.limit(500)\n",
        "\n",
        "#Register the DataFrame as a SQL temporary view\n",
        "ratingsDataByCount.createOrReplaceTempView(\"ratingsDataByCount\")\n",
        "ratingsData.createOrReplaceTempView(\"ratingsData\")\n",
        "\n",
        "ratingsData_1 = spark.sql(\"SELECT ratingsData.movieId, ratingsData.userId, ratingsData.rating FROM ratingsData, ratingsDataByCount where ratingsData.movieId = ratingsDataByCount.movieId\")\n",
        "\n",
        "#selecting the top 500 most popular movie which have been voted more than 1500 times.\n",
        "ratingsDataByUserCount = ratingsData.groupby('userId').count()\n",
        "ratingsDataByUserCount = ratingsDataByUserCount.sort('count', ascending=False)\n",
        "\n",
        "#Register the DataFrame as a SQL temporary view\n",
        "ratingsDataByUserCount.createOrReplaceTempView(\"ratingsDataByUserCount\")\n",
        "ratingsData_1.createOrReplaceTempView(\"ratingsData_1\")\n",
        "\n",
        "ratingsData_1 = spark.sql(\"SELECT ratingsData_1.movieId, ratingsData_1.userId, ratingsData_1.rating FROM ratingsDataByUserCount, ratingsData_1 WHERE ratingsData_1.userId = ratingsDataByUserCount.userId and ratingsDataByUserCount.count > 1500\")\n",
        "\n",
        "Sample_1 = ratingsData_1.toPandas()"
      ],
      "execution_count": 0,
      "outputs": []
    },
    {
      "cell_type": "code",
      "metadata": {
        "id": "qao4ECfYcj3e",
        "colab_type": "code",
        "outputId": "2f821073-c857-42c1-8d4c-3614eb27d6a4",
        "colab": {
          "base_uri": "https://localhost:8080/",
          "height": 104
        }
      },
      "source": [
        "Sample_1.count()"
      ],
      "execution_count": 0,
      "outputs": [
        {
          "output_type": "execute_result",
          "data": {
            "text/plain": [
              "movieId        220683\n",
              "userId         220683\n",
              "rating         220683\n",
              "pred_rating    220683\n",
              "dtype: int64"
            ]
          },
          "metadata": {
            "tags": []
          },
          "execution_count": 42
        }
      ]
    },
    {
      "cell_type": "markdown",
      "metadata": {
        "id": "ERjQjLnUX47i",
        "colab_type": "text"
      },
      "source": [
        "# Sample 2:  Ratings of the top 1000 movies from users that have rated more than 1500 movies"
      ]
    },
    {
      "cell_type": "code",
      "metadata": {
        "id": "vqUUlEbGIHOw",
        "colab_type": "code",
        "colab": {}
      },
      "source": [
        "ratingsDataByCount = ratingsData.groupby('movieId').count()\n",
        "ratingsDataByCount = ratingsDataByCount.sort('count', ascending=False)\n",
        "\n",
        "#selecting the top 1000 most popular movie \n",
        "ratingsDataByCount = ratingsDataByCount.limit(1000)\n",
        "\n",
        "#Register the DataFrame as a SQL temporary view\n",
        "ratingsDataByCount.createOrReplaceTempView(\"ratingsDataByCount\")\n",
        "ratingsData.createOrReplaceTempView(\"ratingsData\")\n",
        "\n",
        "ratingsData_1 = spark.sql(\"SELECT ratingsData.movieId, ratingsData.userId, ratingsData.rating FROM ratingsData, ratingsDataByCount where ratingsData.movieId = ratingsDataByCount.movieId\")\n",
        "\n",
        "#selecting the top 1000 most popular movie which have been voted more than 1500 times.\n",
        "ratingsDataByUserCount = ratingsData.groupby('userId').count()\n",
        "ratingsDataByUserCount = ratingsDataByUserCount.sort('count', ascending=False)\n",
        "\n",
        "#Register the DataFrame as a SQL temporary view\n",
        "ratingsDataByUserCount.createOrReplaceTempView(\"ratingsDataByUserCount\")\n",
        "ratingsData_1.createOrReplaceTempView(\"ratingsData_1\")\n",
        "\n",
        "ratingsData_2 = spark.sql(\"SELECT ratingsData_1.movieId, ratingsData_1.userId, ratingsData_1.rating FROM ratingsDataByUserCount, ratingsData_1 WHERE ratingsData_1.userId = ratingsDataByUserCount.userId and ratingsDataByUserCount.count > 1500\")\n",
        "\n",
        "Sample_2 = ratingsData_2.toPandas()"
      ],
      "execution_count": 0,
      "outputs": []
    },
    {
      "cell_type": "markdown",
      "metadata": {
        "id": "0Ubqv_pibtfa",
        "colab_type": "text"
      },
      "source": [
        "# Sample 3:  Ratings of the top 1500 movies from users that have rated more than 1500 movies"
      ]
    },
    {
      "cell_type": "code",
      "metadata": {
        "id": "zxU6o_qcbu6p",
        "colab_type": "code",
        "colab": {}
      },
      "source": [
        "ratingsDataByCount = ratingsData.groupby('movieId').count()\n",
        "ratingsDataByCount = ratingsDataByCount.sort('count', ascending=False)\n",
        "\n",
        "#selecting the top 1500 most popular movie \n",
        "ratingsDataByCount = ratingsDataByCount.limit(1500)\n",
        "\n",
        "#Register the DataFrame as a SQL temporary view\n",
        "ratingsDataByCount.createOrReplaceTempView(\"ratingsDataByCount\")\n",
        "ratingsData.createOrReplaceTempView(\"ratingsData\")\n",
        "\n",
        "ratingsData_1 = spark.sql(\"SELECT ratingsData.movieId, ratingsData.userId, ratingsData.rating FROM ratingsData, ratingsDataByCount where ratingsData.movieId = ratingsDataByCount.movieId\")\n",
        "\n",
        "#selecting the top 1500 most popular movie which have been voted more than 1500 times.\n",
        "ratingsDataByUserCount = ratingsData.groupby('userId').count()\n",
        "ratingsDataByUserCount = ratingsDataByUserCount.sort('count', ascending=False)\n",
        "\n",
        "#Register the DataFrame as a SQL temporary view\n",
        "ratingsDataByUserCount.createOrReplaceTempView(\"ratingsDataByUserCount\")\n",
        "ratingsData_1.createOrReplaceTempView(\"ratingsData_1\")\n",
        "\n",
        "ratingsData_3 = spark.sql(\"SELECT ratingsData_1.movieId, ratingsData_1.userId, ratingsData_1.rating FROM ratingsDataByUserCount, ratingsData_1 WHERE ratingsData_1.userId = ratingsDataByUserCount.userId and ratingsDataByUserCount.count > 1500\")\n",
        "\n",
        "Sample_3 = ratingsData_3.toPandas()"
      ],
      "execution_count": 0,
      "outputs": []
    },
    {
      "cell_type": "code",
      "metadata": {
        "id": "ubm-60tIdaAK",
        "colab_type": "code",
        "outputId": "11467c7e-12c7-431c-ce34-93c8d2c01c5b",
        "colab": {
          "base_uri": "https://localhost:8080/",
          "height": 87
        }
      },
      "source": [
        "Sample_3.count()"
      ],
      "execution_count": 0,
      "outputs": [
        {
          "output_type": "execute_result",
          "data": {
            "text/plain": [
              "movieId    517647\n",
              "userId     517647\n",
              "rating     517647\n",
              "dtype: int64"
            ]
          },
          "metadata": {
            "tags": []
          },
          "execution_count": 16
        }
      ]
    },
    {
      "cell_type": "markdown",
      "metadata": {
        "id": "jyuUuBjjdXX6",
        "colab_type": "text"
      },
      "source": [
        "# Sample 4:  Ratings of the top 2000 movies from users that have rated more than 1500 movies\n",
        "\n"
      ]
    },
    {
      "cell_type": "code",
      "metadata": {
        "id": "2ouG7iTodXCX",
        "colab_type": "code",
        "colab": {}
      },
      "source": [
        "ratingsDataByCount = ratingsData.groupby('movieId').count()\n",
        "ratingsDataByCount = ratingsDataByCount.sort('count', ascending=False)\n",
        "\n",
        "#selecting the top 2000 most popular movie \n",
        "ratingsDataByCount = ratingsDataByCount.limit(2000)\n",
        "\n",
        "#Register the DataFrame as a SQL temporary view\n",
        "ratingsDataByCount.createOrReplaceTempView(\"ratingsDataByCount\")\n",
        "ratingsData.createOrReplaceTempView(\"ratingsData\")\n",
        "\n",
        "ratingsData_1 = spark.sql(\"SELECT ratingsData.movieId, ratingsData.userId, ratingsData.rating FROM ratingsData, ratingsDataByCount where ratingsData.movieId = ratingsDataByCount.movieId\")\n",
        "\n",
        "#selecting the top 2000 most popular movie which have been voted more than 1500 times.\n",
        "ratingsDataByUserCount = ratingsData.groupby('userId').count()\n",
        "ratingsDataByUserCount = ratingsDataByUserCount.sort('count', ascending=False)\n",
        "\n",
        "#Register the DataFrame as a SQL temporary view\n",
        "ratingsDataByUserCount.createOrReplaceTempView(\"ratingsDataByUserCount\")\n",
        "ratingsData_1.createOrReplaceTempView(\"ratingsData_1\")\n",
        "\n",
        "ratingsData_4 = spark.sql(\"SELECT ratingsData_1.movieId, ratingsData_1.userId, ratingsData_1.rating FROM ratingsDataByUserCount, ratingsData_1 WHERE ratingsData_1.userId = ratingsDataByUserCount.userId and ratingsDataByUserCount.count > 1500\")\n",
        "\n",
        "Sample_4 = ratingsData_4.toPandas()"
      ],
      "execution_count": 0,
      "outputs": []
    },
    {
      "cell_type": "code",
      "metadata": {
        "id": "zrg7im05INUv",
        "colab_type": "code",
        "outputId": "60e45fd3-85b2-423e-d7e7-84e2500dfa96",
        "colab": {
          "base_uri": "https://localhost:8080/",
          "height": 87
        }
      },
      "source": [
        "Sample_4.count()"
      ],
      "execution_count": 0,
      "outputs": [
        {
          "output_type": "execute_result",
          "data": {
            "text/plain": [
              "movieId    623192\n",
              "userId     623192\n",
              "rating     623192\n",
              "dtype: int64"
            ]
          },
          "metadata": {
            "tags": []
          },
          "execution_count": 18
        }
      ]
    },
    {
      "cell_type": "markdown",
      "metadata": {
        "id": "znRvQa7PmyDi",
        "colab_type": "text"
      },
      "source": [
        "# Compute the baseline by considering mean rating as the predicted value for the entire sample and calculating the RMSE for each of the samples. \n",
        "\n"
      ]
    },
    {
      "cell_type": "code",
      "metadata": {
        "id": "46Iln_kOgdup",
        "colab_type": "code",
        "colab": {}
      },
      "source": [
        "import math\n",
        "def Baseline_RMSE(Sample_1):\n",
        "  temp = Sample_1\n",
        "  x = temp['rating'].mean()\n",
        "  for i in range(len(temp)):\n",
        "    temp['pred_rating'] = x \n",
        "  residual_y_test = [a - b for a,b in zip(temp['pred_rating'], temp['rating'])]\n",
        "  rmse_test = RMSE(residual_y_test)\n",
        "  return rmse_test\n",
        "\n",
        "def RMSE(a):\n",
        "    sum = 0\n",
        "    for i in range(0, len(a)):\n",
        "        sum = sum + (a[i]**2)\n",
        "    rmse = math.sqrt(sum / len(a))\n",
        "    return rmse"
      ],
      "execution_count": 0,
      "outputs": []
    },
    {
      "cell_type": "code",
      "metadata": {
        "id": "fwb20ulriLNZ",
        "colab_type": "code",
        "colab": {}
      },
      "source": [
        "RMSE_Sample1 = Baseline_RMSE(Sample_1)\n",
        "RMSE_Sample2 = Baseline_RMSE(Sample_2)\n",
        "RMSE_Sample3 = Baseline_RMSE(Sample_3)\n",
        "RMSE_Sample4 = Baseline_RMSE(Sample_4)\n",
        "\n",
        "List_RMSE_Baseline = [RMSE_Sample1, RMSE_Sample2, RMSE_Sample3, RMSE_Sample4]"
      ],
      "execution_count": 0,
      "outputs": []
    },
    {
      "cell_type": "code",
      "metadata": {
        "id": "W-Vt7igalRjZ",
        "colab_type": "code",
        "outputId": "e71abcbd-f3fd-4d32-ed1a-c0f07c244788",
        "colab": {
          "base_uri": "https://localhost:8080/",
          "height": 87
        }
      },
      "source": [
        "for i in range(len(List_RMSE_Baseline)):\n",
        "  print(\"Baseline RMSE for Sample \" + str(i+1) + \" is \" + str(List_RMSE_Baseline[i]) )"
      ],
      "execution_count": 0,
      "outputs": [
        {
          "output_type": "stream",
          "text": [
            "Baseline RMSE for Sample 1 is 1.0176954407887222\n",
            "Baseline RMSE for Sample 2 is 1.0192983415161732\n",
            "Baseline RMSE for Sample 3 is 1.0271992072986997\n",
            "Baseline RMSE for Sample 4 is 1.031131960344556\n"
          ],
          "name": "stdout"
        }
      ]
    }
  ]
}