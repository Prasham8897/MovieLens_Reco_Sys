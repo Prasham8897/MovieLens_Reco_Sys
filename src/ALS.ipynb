{
 "cells": [
  {
   "cell_type": "code",
   "execution_count": 2,
   "metadata": {
    "colab": {
     "base_uri": "https://localhost:8080/",
     "height": 189
    },
    "colab_type": "code",
    "id": "JaEAlQOwHir4",
    "outputId": "1cee3d58-1f98-4c31-e6f7-6b9fd508232f"
   },
   "outputs": [
    {
     "name": "stdout",
     "output_type": "stream",
     "text": [
      "Go to this URL in a browser: https://accounts.google.com/o/oauth2/auth?client_id=947318989803-6bn6qk8qdgf4n4g3pfee6491hc0brc4i.apps.googleusercontent.com&redirect_uri=urn%3Aietf%3Awg%3Aoauth%3A2.0%3Aoob&scope=email%20https%3A%2F%2Fwww.googleapis.com%2Fauth%2Fdocs.test%20https%3A%2F%2Fwww.googleapis.com%2Fauth%2Fdrive%20https%3A%2F%2Fwww.googleapis.com%2Fauth%2Fdrive.photos.readonly%20https%3A%2F%2Fwww.googleapis.com%2Fauth%2Fpeopleapi.readonly&response_type=code\n",
      "\n",
      "Enter your authorization code:\n",
      "··········\n",
      "Mounted at /content/drive/\n"
     ]
    }
   ],
   "source": [
    "from google.colab import drive\n",
    "drive.mount('/content/drive/', force_remount=True)"
   ]
  },
  {
   "cell_type": "markdown",
   "metadata": {
    "colab_type": "text",
    "id": "A-CjIiPfzRVK"
   },
   "source": [
    "# Setting up the Spark Session"
   ]
  },
  {
   "cell_type": "code",
   "execution_count": 3,
   "metadata": {
    "colab": {
     "base_uri": "https://localhost:8080/",
     "height": 318
    },
    "colab_type": "code",
    "id": "rzdFEmqkHv0J",
    "outputId": "047411e1-32a5-4b1a-d8fc-7949a24a9fe3"
   },
   "outputs": [
    {
     "name": "stdout",
     "output_type": "stream",
     "text": [
      "openjdk version \"11.0.4\" 2019-07-16\n",
      "OpenJDK Runtime Environment (build 11.0.4+11-post-Ubuntu-1ubuntu218.04.3)\n",
      "OpenJDK 64-Bit Server VM (build 11.0.4+11-post-Ubuntu-1ubuntu218.04.3, mixed mode, sharing)\n",
      "There are 2 choices for the alternative java (providing /usr/bin/java).\n",
      "\n",
      "  Selection    Path                                            Priority   Status\n",
      "------------------------------------------------------------\n",
      "* 0            /usr/lib/jvm/java-11-openjdk-amd64/bin/java      1111      auto mode\n",
      "  1            /usr/lib/jvm/java-11-openjdk-amd64/bin/java      1111      manual mode\n",
      "  2            /usr/lib/jvm/java-8-openjdk-amd64/jre/bin/java   1081      manual mode\n",
      "\n",
      "Press <enter> to keep the current choice[*], or type selection number: 2\n",
      "update-alternatives: using /usr/lib/jvm/java-8-openjdk-amd64/jre/bin/java to provide /usr/bin/java (java) in manual mode\n",
      "openjdk version \"1.8.0_222\"\n",
      "OpenJDK Runtime Environment (build 1.8.0_222-8u222-b10-1ubuntu1~18.04.1-b10)\n",
      "OpenJDK 64-Bit Server VM (build 25.222-b10, mixed mode)\n"
     ]
    }
   ],
   "source": [
    "!apt-get install openjdk-8-jdk-headless -qq > /dev/null\n",
    "!wget -q http://apache.osuosl.org/spark/spark-2.4.4/spark-2.4.4-bin-hadoop2.7.tgz\n",
    "!tar xf spark-2.4.4-bin-hadoop2.7.tgz\n",
    "!pip install -q findspark\n",
    "\n",
    "import os\n",
    "os.environ[\"JAVA_HOME\"] = \"/usr/lib/jvm/java-8-openjdk-amd64\"\n",
    "os.environ[\"SPARK_HOME\"] = \"/content/spark-2.4.4-bin-hadoop2.7\"\n",
    "\n",
    "!java -version\n",
    "!sudo update-alternatives --config java\n",
    "!java -version"
   ]
  },
  {
   "cell_type": "code",
   "execution_count": 0,
   "metadata": {
    "colab": {},
    "colab_type": "code",
    "id": "PqDjjiH7H4b4"
   },
   "outputs": [],
   "source": [
    "import findspark\n",
    "findspark.init()\n",
    "from pyspark.sql import SparkSession\n",
    "spark = SparkSession.builder.master(\"local[*]\").getOrCreate()"
   ]
  },
  {
   "cell_type": "markdown",
   "metadata": {
    "colab_type": "text",
    "id": "ZgGHNrPGzWql"
   },
   "source": [
    "# Importing the libraries"
   ]
  },
  {
   "cell_type": "code",
   "execution_count": 0,
   "metadata": {
    "colab": {},
    "colab_type": "code",
    "id": "MxGsT3MGIDUn"
   },
   "outputs": [],
   "source": [
    "#importing libraries for spark mllib \n",
    "from pyspark.ml import Pipeline\n",
    "from pyspark.ml.classification import DecisionTreeClassifier\n",
    "from pyspark.ml.feature import StringIndexer, VectorIndexer\n",
    "from pyspark.ml.evaluation import MulticlassClassificationEvaluator\n",
    "from pyspark.ml.feature import OneHotEncoder, StringIndexer\n",
    "from pyspark.ml.evaluation import RegressionEvaluator\n",
    "from pyspark.ml.recommendation import ALS\n",
    "from pyspark.sql import Row\n",
    "\n",
    "from operator import itemgetter\n",
    "from itertools import groupby\n",
    "import pandas as pd\n",
    "\n",
    "from datetime import datetime"
   ]
  },
  {
   "cell_type": "markdown",
   "metadata": {
    "colab_type": "text",
    "id": "vcBR5zvOzeEB"
   },
   "source": [
    "# Sampling the data - Ratings of the top 500 movies from users that have rated more than 1500 movies "
   ]
  },
  {
   "cell_type": "code",
   "execution_count": 0,
   "metadata": {
    "colab": {},
    "colab_type": "code",
    "id": "zrg7im05INUv"
   },
   "outputs": [],
   "source": [
    "ratingsData = spark.read.load(\"/content/drive/My Drive/ml-20m/ratings.csv\",format=\"csv\",header=True,inferSchema=True)\n",
    "#ratingsData.show(5)"
   ]
  },
  {
   "cell_type": "code",
   "execution_count": 0,
   "metadata": {
    "colab": {},
    "colab_type": "code",
    "id": "U__1cqDUIJwn"
   },
   "outputs": [],
   "source": [
    "ratingsDataByCount = ratingsData.groupby('movieId').count()\n",
    "#ratingsDataByCount.show()"
   ]
  },
  {
   "cell_type": "code",
   "execution_count": 0,
   "metadata": {
    "colab": {},
    "colab_type": "code",
    "id": "DF-MoSBHIL2o"
   },
   "outputs": [],
   "source": [
    "ratingsDataByCount = ratingsDataByCount.sort('count', ascending=False)"
   ]
  },
  {
   "cell_type": "code",
   "execution_count": 0,
   "metadata": {
    "colab": {},
    "colab_type": "code",
    "id": "aA0hC8LMIoMj"
   },
   "outputs": [],
   "source": [
    "#selecting the top 500 most popular movie \n",
    "ratingsDataByCount = ratingsDataByCount.limit(500)"
   ]
  },
  {
   "cell_type": "code",
   "execution_count": 0,
   "metadata": {
    "colab": {},
    "colab_type": "code",
    "id": "coULbFQRJOx5"
   },
   "outputs": [],
   "source": [
    "#Register the DataFrame as a SQL temporary view\n",
    "ratingsDataByCount.createOrReplaceTempView(\"ratingsDataByCount\")\n",
    "ratingsData.createOrReplaceTempView(\"ratingsData\")\n",
    "\n",
    "ratingsData_1 = spark.sql(\"SELECT ratingsData.movieId, ratingsData.userId, ratingsData.rating FROM ratingsData, ratingsDataByCount where ratingsData.movieId = ratingsDataByCount.movieId\")"
   ]
  },
  {
   "cell_type": "code",
   "execution_count": 0,
   "metadata": {
    "colab": {
     "base_uri": "https://localhost:8080/",
     "height": 34
    },
    "colab_type": "code",
    "id": "NRe4AFS3q-w5",
    "outputId": "f3c9cb66-796a-47a4-ac3c-df7d78833530"
   },
   "outputs": [
    {
     "data": {
      "text/plain": [
       "12840344"
      ]
     },
     "execution_count": 40,
     "metadata": {
      "tags": []
     },
     "output_type": "execute_result"
    }
   ],
   "source": [
    "ratingsData_1.count()"
   ]
  },
  {
   "cell_type": "code",
   "execution_count": 0,
   "metadata": {
    "colab": {},
    "colab_type": "code",
    "id": "rivzLfRJ3U9x"
   },
   "outputs": [],
   "source": [
    "ratingsDataByUserCount = ratingsData.groupby('userId').count()\n",
    "ratingsDataByUserCount = ratingsDataByUserCount.sort('count', ascending=False)"
   ]
  },
  {
   "cell_type": "code",
   "execution_count": 0,
   "metadata": {
    "colab": {},
    "colab_type": "code",
    "id": "gzWq737b3onb"
   },
   "outputs": [],
   "source": [
    "#Register the DataFrame as a SQL temporary view\n",
    "ratingsDataByUserCount.createOrReplaceTempView(\"ratingsDataByUserCount\")\n",
    "ratingsData_1.createOrReplaceTempView(\"ratingsData_1\")\n",
    "\n",
    "ratingsData_2 = spark.sql(\"SELECT ratingsData_1.movieId, ratingsData_1.userId, ratingsData_1.rating FROM ratingsDataByUserCount, ratingsData_1 WHERE ratingsData_1.userId = ratingsDataByUserCount.userId and ratingsDataByUserCount.count > 1500\")"
   ]
  },
  {
   "cell_type": "code",
   "execution_count": 0,
   "metadata": {
    "colab": {
     "base_uri": "https://localhost:8080/",
     "height": 34
    },
    "colab_type": "code",
    "id": "H74HZhgN3oj-",
    "outputId": "22583c24-fc0f-432d-c8c1-159ba44d28b2"
   },
   "outputs": [
    {
     "data": {
      "text/plain": [
       "220683"
      ]
     },
     "execution_count": 88,
     "metadata": {
      "tags": []
     },
     "output_type": "execute_result"
    }
   ],
   "source": [
    "ratingsData_2.count()"
   ]
  },
  {
   "cell_type": "markdown",
   "metadata": {
    "colab_type": "text",
    "id": "xds9pN2AUKv1"
   },
   "source": [
    "# Splitting into training tune (for validation) and test in the ratio 60:20:20\n",
    "\n",
    "\n"
   ]
  },
  {
   "cell_type": "code",
   "execution_count": 0,
   "metadata": {
    "colab": {},
    "colab_type": "code",
    "id": "D1JMwZlV7_wJ"
   },
   "outputs": [],
   "source": [
    "(training, tune,  test) = ratingsData_2.randomSplit([0.6, 0.2, 0.2])"
   ]
  },
  {
   "cell_type": "markdown",
   "metadata": {
    "colab_type": "text",
    "id": "sqz_t542Udk2"
   },
   "source": [
    "# Tuning hyper-paramters for variations in latent factors, $\\lambda$ and number of iterations for sample 1"
   ]
  },
  {
   "cell_type": "code",
   "execution_count": 0,
   "metadata": {
    "colab": {
     "base_uri": "https://localhost:8080/",
     "height": 459
    },
    "colab_type": "code",
    "id": "-AIhwV8oMz91",
    "outputId": "f8b2cd57-4e01-4fda-d3e6-4652f5845728"
   },
   "outputs": [
    {
     "name": "stdout",
     "output_type": "stream",
     "text": [
      "10 0.1 5 0.8160859379459205\n",
      "10 0.1 10 0.7849230628326624\n",
      "10 0.05 5 0.7708320761059118\n",
      "10 0.05 10 0.7586621504625916\n",
      "10 0.01 5 0.7628326805613859\n",
      "10 0.01 10 0.7612962521829573\n",
      "20 0.1 5 0.7961043044534777\n",
      "20 0.1 10 0.7801798096896694\n",
      "20 0.05 5 0.7570650712665437\n",
      "20 0.05 10 0.75220548804692\n",
      "20 0.01 5 0.799272000684054\n",
      "20 0.01 10 0.7969249720658184\n",
      "30 0.1 5 0.7841414171305277\n",
      "30 0.1 10 0.7766675804254443\n",
      "30 0.05 5 0.7518956000523962\n",
      "30 0.05 10 0.7510813852634157\n",
      "30 0.01 5 0.8278028220022701\n",
      "30 0.01 10 0.8356059574830945\n",
      "40 0.1 5 0.784047384889419\n",
      "40 0.1 10 0.7766278658891899\n",
      "40 0.05 5 0.7534718568184552\n",
      "40 0.05 10 0.7537700478869277\n",
      "40 0.01 5 0.8592953037083585\n",
      "40 0.01 10 0.8705286103566345\n",
      "30 0.05 10 0.7510813852634157\n",
      "ALS on train:\t\t0.75\n"
     ]
    }
   ],
   "source": [
    "#from pyspark import SparkConf, SparkContext\n",
    "#from pyspark.mllib.recommendation import ALS\n",
    "import itertools\n",
    "from math import sqrt\n",
    "import sys\n",
    "from operator import add\n",
    "\n",
    "ranks       = [10,20,30,40]\n",
    "lambdas     = [0.1,0.05,0.01]\n",
    "numIters    = [5,10]\n",
    "temp = []\n",
    "result = []\n",
    "bestModel   = None\n",
    "bestRmse = float(\"inf\")\n",
    "bestRank    = 0\n",
    "bestLambda  = -1.0\n",
    "bestNumIter = -1\n",
    "for rank, lmbda, numIter in itertools.product(ranks, lambdas, numIters):\n",
    "  als = ALS(maxIter=numIter, regParam=lmbda, userCol=\"userId\", itemCol=\"movieId\", ratingCol=\"rating\", coldStartStrategy=\"drop\",implicitPrefs=False, rank=rank)\n",
    "  model = als.fit(training)\n",
    "  predictions = model.transform(tune)\n",
    "  evaluator = RegressionEvaluator(metricName=\"rmse\", labelCol=\"rating\", predictionCol=\"prediction\")\n",
    "  rmse = evaluator.evaluate(predictions)\n",
    "  temp.append(rank)\n",
    "  temp.append(lmbda)\n",
    "  temp.append(numIter)\n",
    "  temp.append(rmse)\n",
    "  result.append(temp)\n",
    "  temp = []\n",
    "  print (rank, lmbda, numIter, rmse)\n",
    "  if (rmse < bestRmse):\n",
    "    bestModel = model\n",
    "    bestRmse = rmse\n",
    "    bestRank = rank\n",
    "    bestLambda = lmbda\n",
    "    bestNumIter = numIter\n",
    "print (bestRank, bestLambda, bestNumIter, bestRmse) \n",
    "print (\"ALS on train:\\t\\t%.2f\" % bestRmse)\n"
   ]
  },
  {
   "cell_type": "code",
   "execution_count": 120,
   "metadata": {
    "colab": {
     "base_uri": "https://localhost:8080/",
     "height": 74
    },
    "colab_type": "code",
    "id": "VEVl9iAwfmSB",
    "outputId": "d3e6aba3-b955-4845-cd12-2ad6b34c809f"
   },
   "outputs": [
    {
     "name": "stdout",
     "output_type": "stream",
     "text": [
      "[[10, 0.1, 5, 0.8160859379459205], [10, 0.1, 10, 0.7849230628326624], [10, 0.05, 5, 0.7708320761059118], [10, 0.05, 10, 0.7586621504625916], [10, 0.01, 5, 0.7628326805613859], [10, 0.01, 10, 0.7612962521829573], [20, 0.1, 5, 0.7961043044534777], [20, 0.1, 10, 0.7801798096896694], [20, 0.05, 5, 0.7570650712665437], [20, 0.05, 10, 0.75220548804692], [20, 0.01, 5, 0.799272000684054], [20, 0.01, 10, 0.7969249720658184], [30, 0.1, 5, 0.7841414171305277], [30, 0.1, 10, 0.7766675804254443], [30, 0.05, 5, 0.7518956000523962], [30, 0.05, 10, 0.7510813852634157], [30, 0.01, 5, 0.8278028220022701], [30, 0.01, 10, 0.8356059574830945], [40, 0.1, 5, 0.784047384889419], [40, 0.1, 10, 0.7766278658891899], [40, 0.05, 5, 0.7534718568184552], [40, 0.05, 10, 0.7537700478869277], [40, 0.01, 5, 0.8592953037083585], [40, 0.01, 10, 0.8705286103566345]]\n"
     ]
    }
   ],
   "source": [
    "print(result)"
   ]
  },
  {
   "cell_type": "markdown",
   "metadata": {
    "colab_type": "text",
    "id": "wCi4ikvfU0z0"
   },
   "source": [
    "# Calculating accuracy of predictions on the test data\n"
   ]
  },
  {
   "cell_type": "code",
   "execution_count": 53,
   "metadata": {
    "colab": {
     "base_uri": "https://localhost:8080/",
     "height": 68
    },
    "colab_type": "code",
    "id": "stpa3ykSEYm4",
    "outputId": "63681659-ae57-494b-ffed-47d01e1f2235"
   },
   "outputs": [
    {
     "name": "stdout",
     "output_type": "stream",
     "text": [
      "Start Time = 2019-11-06 18:08:07.200521\n",
      "End Time = 2019-11-06 18:09:38.343619\n",
      "91.143098\n"
     ]
    }
   ],
   "source": [
    "#Testing it on the test data\n",
    "start = datetime.now()\n",
    "print(\"Start Time =\", start)\n",
    "als = ALS(maxIter=10, regParam=0.05, \n",
    "          userCol=\"userId\", itemCol=\"movieId\", ratingCol=\"rating\",\n",
    "          coldStartStrategy=\"drop\",\n",
    "          implicitPrefs=False, rank=30)\n",
    "model = als.fit(training)\n",
    "end = datetime.now()\n",
    "print(\"End Time =\", end)\n",
    "time_1 = (end - start).total_seconds()\n",
    "print(time_1)"
   ]
  },
  {
   "cell_type": "code",
   "execution_count": 15,
   "metadata": {
    "colab": {
     "base_uri": "https://localhost:8080/",
     "height": 34
    },
    "colab_type": "code",
    "id": "KO869hnotDbc",
    "outputId": "8d686682-10b2-44a8-cd9b-080a62ac4a53"
   },
   "outputs": [
    {
     "name": "stdout",
     "output_type": "stream",
     "text": [
      "Root-mean-square error = 0.7588650990913113\n"
     ]
    }
   ],
   "source": [
    "# Evaluate the model by computing the RMSE on the test data\n",
    "predictions = model.transform(test)\n",
    "evaluator = RegressionEvaluator(metricName=\"rmse\", labelCol=\"rating\",\n",
    "                                predictionCol=\"prediction\")\n",
    "\n",
    "rmse = evaluator.evaluate(predictions)\n",
    "rmse_1 = rmse\n",
    "print(\"Root-mean-square error = \" + str(rmse))"
   ]
  },
  {
   "cell_type": "code",
   "execution_count": 196,
   "metadata": {
    "colab": {
     "base_uri": "https://localhost:8080/",
     "height": 34
    },
    "colab_type": "code",
    "id": "D3_P0S3rl12R",
    "outputId": "23b52d69-a264-4043-c69c-64bd0195d305"
   },
   "outputs": [
    {
     "name": "stdout",
     "output_type": "stream",
     "text": [
      "Root-squared error = 0.4521731473926345\n"
     ]
    }
   ],
   "source": [
    "#calculating r2 as the secondary metric\n",
    "evaluator = RegressionEvaluator(metricName=\"r2\", labelCol=\"rating\",\n",
    "                                predictionCol=\"prediction\")\n",
    "\n",
    "r2 = evaluator.evaluate(predictions)\n",
    "r2_1 = r2\n",
    "print(\"Root-squared error = \" + str(r2))"
   ]
  },
  {
   "cell_type": "markdown",
   "metadata": {
    "colab_type": "text",
    "id": "jaRwLF9sgrJn"
   },
   "source": [
    "# Coverage for Sample 1"
   ]
  },
  {
   "cell_type": "code",
   "execution_count": 16,
   "metadata": {
    "colab": {
     "base_uri": "https://localhost:8080/",
     "height": 51
    },
    "colab_type": "code",
    "id": "LjHkdWp3goMT",
    "outputId": "ffac5cd8-91d1-424f-a5a9-9b995f7ca608"
   },
   "outputs": [
    {
     "name": "stdout",
     "output_type": "stream",
     "text": [
      "Coverage of movies =0.818\n",
      "Coverage based on users =0.7962003454231433\n"
     ]
    }
   ],
   "source": [
    "pandasDf = ratingsData_2.toPandas()\n",
    "\n",
    "Recs = model.recommendForAllUsers(pandasDf['movieId'].nunique())\n",
    "rec_movies_1 = Recs.toPandas()\n",
    "\n",
    "list1 = []\n",
    "for i in range(len(pandasDf)):\n",
    "  tup1 = (pandasDf['movieId'][i],pandasDf['userId'][i] )\n",
    "  list1.append(tup1)\n",
    "\n",
    "sortkeyfn = itemgetter(1)\n",
    "list1.sort(key=sortkeyfn)\n",
    "\n",
    "result = {}\n",
    "for key,valuesiter in groupby(list1, key=sortkeyfn):\n",
    "    result[key] = list(v[0] for v in valuesiter)\n",
    "\n",
    "#Finding out the top 10 movies based on predicted rating values for movies user hasn't seen.\n",
    "list6 = []\n",
    "for key,values in result.items():\n",
    "  list5 = []\n",
    "  x = list(rec_movies_1[rec_movies_1[\"userId\"]==key][\"recommendations\"])\n",
    "  for s1,s2 in x[0]:\n",
    "    if s1 in values:\n",
    "      continue\n",
    "    else:\n",
    "      if len(list5) == 10:\n",
    "        break\n",
    "      else:\n",
    "        list5.append((s1,s2))\n",
    "  list6.append((key,list5))\n",
    "\n",
    "l1= []\n",
    "for i in list6:\n",
    "  user = i[0]\n",
    "  for j in i[1]:\n",
    "    l1.append([user,j[0]])\n",
    "recoms = pd.DataFrame(l1,columns = ['UserId', 'Movie_Recs'])\n",
    "\n",
    "Coverage_movies_1 = (recoms.iloc[:,1].nunique())/(pandasDf.iloc[:,0].nunique())\n",
    "print(\"Coverage of movies =\" + str(Coverage_movies_1) )\n",
    "\n",
    "list_b = []\n",
    "count = 0\n",
    "for i in list6:\n",
    "  user = i[0]\n",
    "  count1 = 0\n",
    "  for j in i[1]:\n",
    "    if j[1] >= 3.5:\n",
    "      count1+=1\n",
    "  if(count1 == 10):\n",
    "    list_b.append(user)\n",
    "    count = count + 1 \n",
    "\n",
    "Coverage_users_1 = (count)/(pandasDf.iloc[:,1].nunique())\n",
    "print(\"Coverage based on users =\" + str(Coverage_users_1))"
   ]
  },
  {
   "cell_type": "markdown",
   "metadata": {
    "colab_type": "text",
    "id": "dWsNXK2lOVwj"
   },
   "source": [
    "# Increasing the sample size (taking the top 1000 movies) and tuning the paramteres based for that size"
   ]
  },
  {
   "cell_type": "code",
   "execution_count": 0,
   "metadata": {
    "colab": {},
    "colab_type": "code",
    "id": "Q92LRAXHOmrP"
   },
   "outputs": [],
   "source": [
    "ratingsDataByCount_1 = ratingsData.groupby('movieId').count()\n",
    "#ratingsDataByCount.show()"
   ]
  },
  {
   "cell_type": "code",
   "execution_count": 0,
   "metadata": {
    "colab": {},
    "colab_type": "code",
    "id": "VWjOjNBcOmra"
   },
   "outputs": [],
   "source": [
    "ratingsDataByCount_1 = ratingsDataByCount_1.sort('count', ascending=False)"
   ]
  },
  {
   "cell_type": "code",
   "execution_count": 0,
   "metadata": {
    "colab": {},
    "colab_type": "code",
    "id": "DbX-j0yMOmre"
   },
   "outputs": [],
   "source": [
    "#selecting the top 1000 most popular movie \n",
    "ratingsDataByCount_1 = ratingsDataByCount_1.limit(1000)"
   ]
  },
  {
   "cell_type": "code",
   "execution_count": 0,
   "metadata": {
    "colab": {},
    "colab_type": "code",
    "id": "_f3_UBInOmrh"
   },
   "outputs": [],
   "source": [
    "#Register the DataFrame as a SQL temporary view\n",
    "ratingsDataByCount_1.createOrReplaceTempView(\"ratingsDataByCount_1\")\n",
    "ratingsData.createOrReplaceTempView(\"ratingsData\")\n",
    "\n",
    "ratingsData_1_1 = spark.sql(\"SELECT ratingsData.movieId, ratingsData.userId, ratingsData.rating FROM ratingsData, ratingsDataByCount_1 where ratingsData.movieId = ratingsDataByCount_1.movieId\")"
   ]
  },
  {
   "cell_type": "code",
   "execution_count": 0,
   "metadata": {
    "colab": {},
    "colab_type": "code",
    "id": "OUn_TT-HOmrk"
   },
   "outputs": [],
   "source": [
    "ratingsDataByUserCount_1 = ratingsData.groupby('userId').count()\n",
    "ratingsDataByUserCount_1 = ratingsDataByUserCount.sort('count', ascending=False)"
   ]
  },
  {
   "cell_type": "code",
   "execution_count": 0,
   "metadata": {
    "colab": {},
    "colab_type": "code",
    "id": "nMrat5fHOmrm"
   },
   "outputs": [],
   "source": [
    "#Register the DataFrame as a SQL temporary view\n",
    "ratingsDataByUserCount_1.createOrReplaceTempView(\"ratingsDataByUserCount_1\")\n",
    "ratingsData_1_1.createOrReplaceTempView(\"ratingsData_1_1\")\n",
    "\n",
    "ratingsData_2_1 = spark.sql(\"SELECT ratingsData_1_1.movieId, ratingsData_1_1.userId, ratingsData_1_1.rating FROM ratingsDataByUserCount_1, ratingsData_1_1 WHERE ratingsData_1_1.userId = ratingsDataByUserCount_1.userId and ratingsDataByUserCount_1.count > 1500\")"
   ]
  },
  {
   "cell_type": "code",
   "execution_count": 0,
   "metadata": {
    "colab": {
     "base_uri": "https://localhost:8080/",
     "height": 34
    },
    "colab_type": "code",
    "id": "kLAusCIAOmrp",
    "outputId": "172eb9fb-5a21-46fb-eae6-77585340f920"
   },
   "outputs": [
    {
     "data": {
      "text/plain": [
       "387079"
      ]
     },
     "execution_count": 116,
     "metadata": {
      "tags": []
     },
     "output_type": "execute_result"
    }
   ],
   "source": [
    "ratingsData_2_1.count()"
   ]
  },
  {
   "cell_type": "markdown",
   "metadata": {},
   "source": [
    "# Splitting into training tune (for validation) and test in the ratio 60:20:20\n",
    "\n",
    "\n"
   ]
  },
  {
   "cell_type": "code",
   "execution_count": 0,
   "metadata": {
    "colab": {},
    "colab_type": "code",
    "id": "NX4T1_gjQW1H"
   },
   "outputs": [],
   "source": [
    "(training_1, tune_1,  test_1) = ratingsData_2_1.randomSplit([0.6, 0.2, 0.2])"
   ]
  },
  {
   "cell_type": "markdown",
   "metadata": {
    "colab_type": "text",
    "id": "fQSIovnUUwcA"
   },
   "source": [
    "# Tuning hyper-paramters for the sample 2\n"
   ]
  },
  {
   "cell_type": "code",
   "execution_count": 121,
   "metadata": {
    "colab": {
     "base_uri": "https://localhost:8080/",
     "height": 459
    },
    "colab_type": "code",
    "id": "4M9Tr7a8EyVz",
    "outputId": "51bbb8fe-46eb-4d93-c025-02858feff8eb"
   },
   "outputs": [
    {
     "name": "stdout",
     "output_type": "stream",
     "text": [
      "10 0.1 5 0.8095508332183847\n",
      "10 0.1 10 0.7836574569156289\n",
      "10 0.05 5 0.7654743867104711\n",
      "10 0.05 10 0.7566737164438389\n",
      "10 0.01 5 0.7608347063789944\n",
      "10 0.01 10 0.7578559569430581\n",
      "20 0.1 5 0.7949741455889554\n",
      "20 0.1 10 0.7804069948914096\n",
      "20 0.05 5 0.7518872911140863\n",
      "20 0.05 10 0.7488364215800515\n",
      "20 0.01 5 0.7834167495167406\n",
      "20 0.01 10 0.7829571260156953\n",
      "30 0.1 5 0.7847040323983759\n",
      "30 0.1 10 0.7773359775049387\n",
      "30 0.05 5 0.747219853675692\n",
      "30 0.05 10 0.7470068602487541\n",
      "30 0.01 5 0.8062156079777897\n",
      "30 0.01 10 0.8129317666952441\n",
      "40 0.1 5 0.7846366430407581\n",
      "40 0.1 10 0.777386974750319\n",
      "40 0.05 5 0.746761957501748\n",
      "40 0.05 10 0.7468198199448307\n",
      "40 0.01 5 0.8307186829843916\n",
      "40 0.01 10 0.8425029172102276\n",
      "40 0.05 5 0.746761957501748\n",
      "ALS on train:\t\t0.75\n"
     ]
    }
   ],
   "source": [
    "#from pyspark import SparkConf, SparkContext\n",
    "#from pyspark.mllib.recommendation import ALS\n",
    "import itertools\n",
    "from math import sqrt\n",
    "import sys\n",
    "from operator import add\n",
    "\n",
    "ranks       = [10,20,30,40]\n",
    "lambdas     = [0.1,0.05,0.01]\n",
    "numIters    = [5,10]\n",
    "temp_1 = []\n",
    "result_1 = []\n",
    "bestModel   = None\n",
    "bestRmse = float(\"inf\")\n",
    "bestRank    = 0\n",
    "bestLambda  = -1.0\n",
    "bestNumIter = -1\n",
    "for rank, lmbda, numIter in itertools.product(ranks, lambdas, numIters):\n",
    "  als = ALS(maxIter=numIter, regParam=lmbda, userCol=\"userId\", itemCol=\"movieId\", ratingCol=\"rating\", coldStartStrategy=\"drop\",implicitPrefs=False, rank=rank)\n",
    "  model = als.fit(training_1)\n",
    "  predictions = model.transform(tune_1)\n",
    "  evaluator = RegressionEvaluator(metricName=\"rmse\", labelCol=\"rating\", predictionCol=\"prediction\")\n",
    "  rmse = evaluator.evaluate(predictions)\n",
    "  temp_1.append(rank)\n",
    "  temp_1.append(lmbda)\n",
    "  temp_1.append(numIter)\n",
    "  temp_1.append(rmse)\n",
    "  result_1.append(temp)\n",
    "  temp_1 = []\n",
    "  print (rank, lmbda, numIter, rmse)\n",
    "  if (rmse < bestRmse):\n",
    "    bestModel = model\n",
    "    bestRmse = rmse\n",
    "    bestRank = rank\n",
    "    bestLambda = lmbda\n",
    "    bestNumIter = numIter\n",
    "print (bestRank, bestLambda, bestNumIter, bestRmse) \n",
    "print (\"ALS on train:\\t\\t%.2f\" % bestRmse)\n"
   ]
  },
  {
   "cell_type": "code",
   "execution_count": 0,
   "metadata": {
    "colab": {},
    "colab_type": "code",
    "id": "XJpaymsZQ6V-"
   },
   "outputs": [],
   "source": [
    "result_2 = [[10, 0.1, 5, 0.8095508332183847],\n",
    "[10, 0.1, 10, 0.7836574569156289],\n",
    "[10, 0.05, 5, 0.7654743867104711],\n",
    "[10, 0.05, 10, 0.7566737164438389],\n",
    "[10, 0.01, 5, 0.7608347063789944],\n",
    "[10, 0.01, 10, 0.7578559569430581],\n",
    "[20, 0.1, 5, 0.7949741455889554],\n",
    "[20, 0.1, 10, 0.7804069948914096],\n",
    "[20, 0.05, 5, 0.7518872911140863],\n",
    "[20, 0.05, 10, 0.7488364215800515],\n",
    "[20, 0.01, 5, 0.7834167495167406],\n",
    "[20, 0.01, 10, 0.7829571260156953],\n",
    "[30, 0.1, 5, 0.7847040323983759],\n",
    "[30, 0.1, 10, 0.7773359775049387],\n",
    "[30, 0.05, 5, 0.747219853675692],\n",
    "[30, 0.05, 10, 0.7470068602487541],\n",
    "[30, 0.01, 5, 0.8062156079777897],\n",
    "[30, 0.01, 10, 0.8129317666952441],\n",
    "[40, 0.1, 5, 0.7846366430407581],\n",
    "[40, 0.1, 10, 0.777386974750319],\n",
    "[40, 0.05, 5, 0.746761957501748],\n",
    "[40, 0.05, 10, 0.7468198199448307],\n",
    "[40, 0.01, 5, 0.8307186829843916],\n",
    "[40, 0.01, 10, 0.8425029172102276]]"
   ]
  },
  {
   "cell_type": "markdown",
   "metadata": {
    "colab_type": "text",
    "id": "Y3LLH1_ldbMI"
   },
   "source": [
    "# Calculating accuracy of predictions on the test data\n"
   ]
  },
  {
   "cell_type": "code",
   "execution_count": 52,
   "metadata": {
    "colab": {
     "base_uri": "https://localhost:8080/",
     "height": 68
    },
    "colab_type": "code",
    "id": "nd25Y80rdbML",
    "outputId": "4cf96eda-09b2-4e99-8476-8dfed23c49f8"
   },
   "outputs": [
    {
     "name": "stdout",
     "output_type": "stream",
     "text": [
      "Start Time = 2019-11-06 18:05:59.669630\n",
      "End Time = 2019-11-06 18:07:33.680443\n",
      "94.010813\n"
     ]
    }
   ],
   "source": [
    "#Testing it on the test data\n",
    "start = datetime.now()\n",
    "print(\"Start Time =\", start)\n",
    "als = ALS(maxIter=5, regParam=0.05, \n",
    "          userCol=\"userId\", itemCol=\"movieId\", ratingCol=\"rating\",\n",
    "          coldStartStrategy=\"drop\",\n",
    "          implicitPrefs=False, rank=40)\n",
    "model = als.fit(training_1)\n",
    "end = datetime.now()\n",
    "print(\"End Time =\", end)\n",
    "time_2 = (end - start).total_seconds()\n",
    "print(time_2)"
   ]
  },
  {
   "cell_type": "code",
   "execution_count": 25,
   "metadata": {
    "colab": {
     "base_uri": "https://localhost:8080/",
     "height": 34
    },
    "colab_type": "code",
    "id": "UnOmB9prdbMP",
    "outputId": "77453306-3578-484e-baed-790d19c72693"
   },
   "outputs": [
    {
     "name": "stdout",
     "output_type": "stream",
     "text": [
      "Root-mean-square error = 0.7464014725074214\n"
     ]
    }
   ],
   "source": [
    "# Evaluate the model by computing the RMSE on the test data\n",
    "predictions = model.transform(test_1)\n",
    "evaluator = RegressionEvaluator(metricName=\"rmse\", labelCol=\"rating\",\n",
    "                                predictionCol=\"prediction\")\n",
    "\n",
    "rmse = evaluator.evaluate(predictions)\n",
    "rmse_2 = rmse\n",
    "print(\"Root-mean-square error = \" + str(rmse))"
   ]
  },
  {
   "cell_type": "code",
   "execution_count": 193,
   "metadata": {
    "colab": {
     "base_uri": "https://localhost:8080/",
     "height": 34
    },
    "colab_type": "code",
    "id": "U7QmEbgdkwaB",
    "outputId": "2d8eeab0-a0d8-4486-b53d-0959140873b0"
   },
   "outputs": [
    {
     "name": "stdout",
     "output_type": "stream",
     "text": [
      "Root-squared error = 0.4640072960561281\n"
     ]
    }
   ],
   "source": [
    "#calculating r2 as the secondary metric\n",
    "evaluator = RegressionEvaluator(metricName=\"r2\", labelCol=\"rating\",\n",
    "                                predictionCol=\"prediction\")\n",
    "\n",
    "r2 = evaluator.evaluate(predictions)\n",
    "r2_2 = r2\n",
    "print(\"Root-squared error = \" + str(r2))"
   ]
  },
  {
   "cell_type": "markdown",
   "metadata": {
    "colab_type": "text",
    "id": "CGTn4MAklRe5"
   },
   "source": [
    "# Coverage for Sample 2"
   ]
  },
  {
   "cell_type": "code",
   "execution_count": 26,
   "metadata": {
    "colab": {
     "base_uri": "https://localhost:8080/",
     "height": 51
    },
    "colab_type": "code",
    "id": "6SQPzSy8i8K5",
    "outputId": "cc0bdcdb-32a4-4ad8-a14a-ca188686f686"
   },
   "outputs": [
    {
     "name": "stdout",
     "output_type": "stream",
     "text": [
      "Coverage of movies =0.58\n",
      "Coverage based on users =0.8791018998272885\n"
     ]
    }
   ],
   "source": [
    "pandasDf = ratingsData_2_1.toPandas()\n",
    "\n",
    "Recs = model.recommendForAllUsers(pandasDf['movieId'].nunique())\n",
    "rec_movies_1 = Recs.toPandas()\n",
    "\n",
    "list1 = []\n",
    "for i in range(len(pandasDf)):\n",
    "  tup1 = (pandasDf['movieId'][i],pandasDf['userId'][i] )\n",
    "  list1.append(tup1)\n",
    "\n",
    "sortkeyfn = itemgetter(1)\n",
    "list1.sort(key=sortkeyfn)\n",
    "\n",
    "result = {}\n",
    "for key,valuesiter in groupby(list1, key=sortkeyfn):\n",
    "    result[key] = list(v[0] for v in valuesiter)\n",
    "\n",
    "#Finding out the top 10 movies based on predicted rating values for movies user hasn't seen.\n",
    "list6 = []\n",
    "for key,values in result.items():\n",
    "  list5 = []\n",
    "  x = list(rec_movies_1[rec_movies_1[\"userId\"]==key][\"recommendations\"])\n",
    "  for s1,s2 in x[0]:\n",
    "    if s1 in values:\n",
    "      continue\n",
    "    else:\n",
    "      if len(list5) == 10:\n",
    "        break\n",
    "      else:\n",
    "        list5.append((s1,s2))\n",
    "  list6.append((key,list5))\n",
    "\n",
    "l1= []\n",
    "for i in list6:\n",
    "  user = i[0]\n",
    "  for j in i[1]:\n",
    "    l1.append([user,j[0]])\n",
    "recoms = pd.DataFrame(l1,columns = ['UserId', 'Movie_Recs'])\n",
    "\n",
    "Coverage_movies_2 = (recoms.iloc[:,1].nunique())/(pandasDf.iloc[:,0].nunique())\n",
    "print(\"Coverage of movies =\" + str(Coverage_movies_2) )\n",
    "\n",
    "list_b = []\n",
    "count = 0\n",
    "for i in list6:\n",
    "  user = i[0]\n",
    "  count1 = 0\n",
    "  for j in i[1]:\n",
    "    if j[1] >= 3.5:\n",
    "      count1+=1\n",
    "  if(count1 == 10):\n",
    "    list_b.append(user)\n",
    "    count = count + 1 \n",
    "\n",
    "Coverage_users_2 = (count)/(pandasDf.iloc[:,1].nunique())\n",
    "print(\"Coverage based on users =\" + str(Coverage_users_2))"
   ]
  },
  {
   "cell_type": "markdown",
   "metadata": {
    "colab_type": "text",
    "id": "vdxZOSqlwf5i"
   },
   "source": [
    "# Increasing the sample size (taking top 1500 movies) and tuning the paramteres based for that size"
   ]
  },
  {
   "cell_type": "code",
   "execution_count": 0,
   "metadata": {
    "colab": {},
    "colab_type": "code",
    "id": "QAswuhCzwaOe"
   },
   "outputs": [],
   "source": [
    "ratingsDataByCount_2 = ratingsData.groupby('movieId').count()\n",
    "#ratingsDataByCount.show()"
   ]
  },
  {
   "cell_type": "code",
   "execution_count": 0,
   "metadata": {
    "colab": {},
    "colab_type": "code",
    "id": "390zoY_EwaOh"
   },
   "outputs": [],
   "source": [
    "ratingsDataByCount_2 = ratingsDataByCount_2.sort('count', ascending=False)"
   ]
  },
  {
   "cell_type": "code",
   "execution_count": 0,
   "metadata": {
    "colab": {},
    "colab_type": "code",
    "id": "xpKD1MdIwaOj"
   },
   "outputs": [],
   "source": [
    "#selecting the top 1500 most popular movie \n",
    "ratingsDataByCount_2 = ratingsDataByCount_2.limit(1500)"
   ]
  },
  {
   "cell_type": "code",
   "execution_count": 0,
   "metadata": {
    "colab": {},
    "colab_type": "code",
    "id": "G-fyoCjrwaOk"
   },
   "outputs": [],
   "source": [
    "#Register the DataFrame as a SQL temporary view\n",
    "ratingsDataByCount_2.createOrReplaceTempView(\"ratingsDataByCount_2\")\n",
    "ratingsData.createOrReplaceTempView(\"ratingsData\")\n",
    "\n",
    "ratingsData_1_2 = spark.sql(\"SELECT ratingsData.movieId, ratingsData.userId, ratingsData.rating FROM ratingsData, ratingsDataByCount_2 where ratingsData.movieId = ratingsDataByCount_2.movieId\")"
   ]
  },
  {
   "cell_type": "code",
   "execution_count": 0,
   "metadata": {
    "colab": {},
    "colab_type": "code",
    "id": "9jOuWDP7waOm"
   },
   "outputs": [],
   "source": [
    "ratingsDataByUserCount_2 = ratingsData.groupby('userId').count()\n",
    "ratingsDataByUserCount_2 = ratingsDataByUserCount_2.sort('count', ascending=False)"
   ]
  },
  {
   "cell_type": "code",
   "execution_count": 0,
   "metadata": {
    "colab": {},
    "colab_type": "code",
    "id": "aeUIGpL9waOn"
   },
   "outputs": [],
   "source": [
    "#Register the DataFrame as a SQL temporary view\n",
    "ratingsDataByUserCount_2.createOrReplaceTempView(\"ratingsDataByUserCount_2\")\n",
    "ratingsData_1_2.createOrReplaceTempView(\"ratingsData_1_2\")\n",
    "\n",
    "ratingsData_2_2 = spark.sql(\"SELECT ratingsData_1_2.movieId, ratingsData_1_2.userId, ratingsData_1_2.rating FROM ratingsDataByUserCount_2, ratingsData_1_2 WHERE ratingsData_1_2.userId = ratingsDataByUserCount_2.userId and ratingsDataByUserCount_2.count > 1500\")"
   ]
  },
  {
   "cell_type": "code",
   "execution_count": 128,
   "metadata": {
    "colab": {
     "base_uri": "https://localhost:8080/",
     "height": 34
    },
    "colab_type": "code",
    "id": "5qjFyabXwaOp",
    "outputId": "609834ea-fac5-49d9-abc6-326b82399887"
   },
   "outputs": [
    {
     "data": {
      "text/plain": [
       "517647"
      ]
     },
     "execution_count": 128,
     "metadata": {
      "tags": []
     },
     "output_type": "execute_result"
    }
   ],
   "source": [
    "ratingsData_2_2.count()"
   ]
  },
  {
   "cell_type": "markdown",
   "metadata": {},
   "source": [
    "# Splitting into training tune (for validation) and test in the ratio 60:20:20\n",
    "\n",
    "\n"
   ]
  },
  {
   "cell_type": "code",
   "execution_count": 0,
   "metadata": {
    "colab": {},
    "colab_type": "code",
    "id": "Z29Mf96VwaOs"
   },
   "outputs": [],
   "source": [
    "(training_2, tune_2,  test_2) = ratingsData_2_2.randomSplit([0.6, 0.2, 0.2])"
   ]
  },
  {
   "cell_type": "markdown",
   "metadata": {
    "colab_type": "text",
    "id": "m_5tiKdAwaOv"
   },
   "source": [
    "# Tuning hyper-paramters for the sample 3\n"
   ]
  },
  {
   "cell_type": "code",
   "execution_count": 130,
   "metadata": {
    "colab": {
     "base_uri": "https://localhost:8080/",
     "height": 459
    },
    "colab_type": "code",
    "id": "ca8n-kd9waOw",
    "outputId": "74610f41-1903-4196-8a7e-0784e4c8d7c0"
   },
   "outputs": [
    {
     "name": "stdout",
     "output_type": "stream",
     "text": [
      "10 0.1 5 0.8009649734710318\n",
      "10 0.1 10 0.7776716242920293\n",
      "10 0.05 5 0.7578781881787031\n",
      "10 0.05 10 0.7492138124105586\n",
      "10 0.01 5 0.7539735414341682\n",
      "10 0.01 10 0.7508281977113563\n",
      "20 0.1 5 0.7890648437998747\n",
      "20 0.1 10 0.774713931633738\n",
      "20 0.05 5 0.7446174640694418\n",
      "20 0.05 10 0.7412430956669122\n",
      "20 0.01 5 0.7737210762009116\n",
      "20 0.01 10 0.7730291213362795\n",
      "30 0.1 5 0.7793708338674104\n",
      "30 0.1 10 0.7718753695846621\n",
      "30 0.05 5 0.7412473570251616\n",
      "30 0.05 10 0.7405597867231041\n",
      "30 0.01 5 0.7974460845560601\n",
      "30 0.01 10 0.8035644202602937\n",
      "40 0.1 5 0.7791577912745697\n",
      "40 0.1 10 0.771846955813523\n",
      "40 0.05 5 0.7403505836932969\n",
      "40 0.05 10 0.7400964879952823\n",
      "40 0.01 5 0.8215805840235848\n",
      "40 0.01 10 0.8311015272576541\n",
      "40 0.05 10 0.7400964879952823\n",
      "ALS on train:\t\t0.74\n"
     ]
    }
   ],
   "source": [
    "#from pyspark import SparkConf, SparkContext\n",
    "#from pyspark.mllib.recommendation import ALS\n",
    "import itertools\n",
    "from math import sqrt\n",
    "import sys\n",
    "from operator import add\n",
    "\n",
    "ranks       = [10,20,30,40]\n",
    "lambdas     = [0.1,0.05,0.01]\n",
    "numIters    = [5,10]\n",
    "temp_2 = []\n",
    "result_2 = []\n",
    "bestModel   = None\n",
    "bestRmse = float(\"inf\")\n",
    "bestRank    = 0\n",
    "bestLambda  = -1.0\n",
    "bestNumIter = -1\n",
    "for rank, lmbda, numIter in itertools.product(ranks, lambdas, numIters):\n",
    "  als = ALS(maxIter=numIter, regParam=lmbda, userCol=\"userId\", itemCol=\"movieId\", ratingCol=\"rating\", coldStartStrategy=\"drop\",implicitPrefs=False, rank=rank)\n",
    "  model = als.fit(training_2)\n",
    "  predictions = model.transform(tune_2)\n",
    "  evaluator = RegressionEvaluator(metricName=\"rmse\", labelCol=\"rating\", predictionCol=\"prediction\")\n",
    "  rmse = evaluator.evaluate(predictions)\n",
    "  temp_2.append(rank)\n",
    "  temp_2.append(lmbda)\n",
    "  temp_2.append(numIter)\n",
    "  temp_2.append(rmse)\n",
    "  result_2.append(temp)\n",
    "  temp_2 = []\n",
    "  print (rank, lmbda, numIter, rmse)\n",
    "  if (rmse < bestRmse):\n",
    "    bestModel = model\n",
    "    bestRmse = rmse\n",
    "    bestRank = rank\n",
    "    bestLambda = lmbda\n",
    "    bestNumIter = numIter\n",
    "print (bestRank, bestLambda, bestNumIter, bestRmse) \n",
    "print (\"ALS on train:\\t\\t%.2f\" % bestRmse)\n"
   ]
  },
  {
   "cell_type": "code",
   "execution_count": 0,
   "metadata": {
    "colab": {},
    "colab_type": "code",
    "id": "Y_9Aa2uuRAhN"
   },
   "outputs": [],
   "source": [
    "result_3 = [[10, 0.1, 5, 0.8009649734710318],\n",
    "[10, 0.1, 10, 0.7776716242920293],\n",
    "[10, 0.05, 5, 0.7578781881787031],\n",
    "[10, 0.05, 10, 0.7492138124105586],\n",
    "[10, 0.01, 5, 0.7539735414341682],\n",
    "[10, 0.01, 10, 0.7508281977113563],\n",
    "[20, 0.1, 5, 0.7890648437998747],\n",
    "[20, 0.1, 10, 0.774713931633738],\n",
    "[20, 0.05, 5, 0.7446174640694418],\n",
    "[20, 0.05, 10, 0.7412430956669122],\n",
    "[20, 0.01, 5, 0.7737210762009116],\n",
    "[20, 0.01, 10, 0.7730291213362795],\n",
    "[30, 0.1, 5, 0.7793708338674104],\n",
    "[30, 0.1, 10, 0.7718753695846621],\n",
    "[30, 0.05, 5, 0.7412473570251616],\n",
    "[30, 0.05, 10, 0.7405597867231041],\n",
    "[30, 0.01, 5, 0.7974460845560601],\n",
    "[30, 0.01, 10, 0.8035644202602937],\n",
    "[40, 0.1, 5, 0.7791577912745697],\n",
    "[40, 0.1, 10, 0.771846955813523],\n",
    "[40, 0.05, 5, 0.7403505836932969],\n",
    "[40, 0.05, 10, 0.7400964879952823],\n",
    "[40, 0.01, 5, 0.8215805840235848],\n",
    "[40, 0.01, 10, 0.8311015272576541]]"
   ]
  },
  {
   "cell_type": "markdown",
   "metadata": {
    "colab_type": "text",
    "id": "BqC9mdsEU9r6"
   },
   "source": [
    "# Calculating accuracy of predictions on the test data\n",
    "\n"
   ]
  },
  {
   "cell_type": "code",
   "execution_count": 54,
   "metadata": {
    "colab": {
     "base_uri": "https://localhost:8080/",
     "height": 85
    },
    "colab_type": "code",
    "id": "d2ghDsebStf-",
    "outputId": "1639dd26-c8a6-47bc-bf49-9ba109376d28"
   },
   "outputs": [
    {
     "name": "stdout",
     "output_type": "stream",
     "text": [
      "Start Time = 2019-11-06 18:10:07.198018\n",
      "End Time = 2019-11-06 18:11:46.451086\n",
      "99.253068\n",
      "Root-mean-square error = 0.7408821070478565\n"
     ]
    }
   ],
   "source": [
    "#Testing it on the test data\n",
    "start = datetime.now()\n",
    "print(\"Start Time =\", start)\n",
    "als = ALS(maxIter=10, regParam=0.05, \n",
    "          userCol=\"userId\", itemCol=\"movieId\", ratingCol=\"rating\",\n",
    "          coldStartStrategy=\"drop\",\n",
    "          implicitPrefs=False, rank=40)\n",
    "model = als.fit(training_2)\n",
    "end = datetime.now()\n",
    "print(\"End Time =\", end)\n",
    "time_3 = (end - start).total_seconds()\n",
    "print(time_3)\n",
    "\n",
    "# Evaluate the model by computing the RMSE on the test data\n",
    "predictions = model.transform(test_2)\n",
    "evaluator = RegressionEvaluator(metricName=\"rmse\", labelCol=\"rating\",\n",
    "                                predictionCol=\"prediction\")\n",
    "\n",
    "rmse = evaluator.evaluate(predictions)\n",
    "#rmse_3 = rmse\n",
    "print(\"Root-mean-square error = \" + str(rmse))"
   ]
  },
  {
   "cell_type": "code",
   "execution_count": 190,
   "metadata": {
    "colab": {
     "base_uri": "https://localhost:8080/",
     "height": 34
    },
    "colab_type": "code",
    "id": "3Vjh0bZRj63f",
    "outputId": "a25869d7-1777-4f80-a037-76b31a660147"
   },
   "outputs": [
    {
     "name": "stdout",
     "output_type": "stream",
     "text": [
      "Root-squared error = 0.4818199959555627\n"
     ]
    }
   ],
   "source": [
    "#calculating r2 as the secondary metric\n",
    "evaluator = RegressionEvaluator(metricName=\"r2\", labelCol=\"rating\",\n",
    "                                predictionCol=\"prediction\")\n",
    "\n",
    "r2 = evaluator.evaluate(predictions)\n",
    "r2_3 = r2\n",
    "print(\"Root-squared error = \" + str(r2))"
   ]
  },
  {
   "cell_type": "markdown",
   "metadata": {
    "colab_type": "text",
    "id": "yvCFdnGLlJSE"
   },
   "source": [
    "# Coverage for Sample 3"
   ]
  },
  {
   "cell_type": "code",
   "execution_count": 35,
   "metadata": {
    "colab": {
     "base_uri": "https://localhost:8080/",
     "height": 51
    },
    "colab_type": "code",
    "id": "o8dHlSQRlCnk",
    "outputId": "22ed6459-0643-4ab3-95dc-19565dd16a3b"
   },
   "outputs": [
    {
     "name": "stdout",
     "output_type": "stream",
     "text": [
      "Coverage of movies =0.4493333333333333\n",
      "Coverage based on users =0.9119170984455959\n"
     ]
    }
   ],
   "source": [
    "pandasDf = ratingsData_2_2.toPandas()\n",
    "\n",
    "Recs = model.recommendForAllUsers(pandasDf['movieId'].nunique())\n",
    "rec_movies_1 = Recs.toPandas()\n",
    "\n",
    "list1 = []\n",
    "for i in range(len(pandasDf)):\n",
    "  tup1 = (pandasDf['movieId'][i],pandasDf['userId'][i] )\n",
    "  list1.append(tup1)\n",
    "\n",
    "sortkeyfn = itemgetter(1)\n",
    "list1.sort(key=sortkeyfn)\n",
    "\n",
    "result = {}\n",
    "for key,valuesiter in groupby(list1, key=sortkeyfn):\n",
    "    result[key] = list(v[0] for v in valuesiter\n",
    "                       \n",
    "#Finding out the top 10 movies based on predicted rating values for movies user hasn't seen.\n",
    "list6 = []\n",
    "for key,values in result.items():\n",
    "  list5 = []\n",
    "  x = list(rec_movies_1[rec_movies_1[\"userId\"]==key][\"recommendations\"])\n",
    "  for s1,s2 in x[0]:\n",
    "    if s1 in values:\n",
    "      continue\n",
    "    else:\n",
    "      if len(list5) == 10:\n",
    "        break\n",
    "      else:\n",
    "        list5.append((s1,s2))\n",
    "  list6.append((key,list5))\n",
    "\n",
    "l1= []\n",
    "for i in list6:\n",
    "  user = i[0]\n",
    "  for j in i[1]:\n",
    "    l1.append([user,j[0]])\n",
    "recoms = pd.DataFrame(l1,columns = ['UserId', 'Movie_Recs'])\n",
    "\n",
    "Coverage_movies_3 = (recoms.iloc[:,1].nunique())/(pandasDf.iloc[:,0].nunique())\n",
    "print(\"Coverage of movies =\" + str(Coverage_movies_3) )\n",
    "\n",
    "list_b = []\n",
    "count = 0\n",
    "for i in list6:\n",
    "  user = i[0]\n",
    "  count1 = 0\n",
    "  for j in i[1]:\n",
    "    if j[1] >= 3.5:\n",
    "      count1+=1\n",
    "  if(count1 == 10):\n",
    "    list_b.append(user)\n",
    "    count = count + 1 \n",
    "\n",
    "Coverage_users_3 = (count)/(pandasDf.iloc[:,1].nunique())\n",
    "print(\"Coverage based on users =\" + str(Coverage_users_3))"
   ]
  },
  {
   "cell_type": "markdown",
   "metadata": {
    "colab_type": "text",
    "id": "LuhrMTlr8p5s"
   },
   "source": [
    "# Increasing the sample size (taking the top 2000 movies) and tuning the paramteres based for that size"
   ]
  },
  {
   "cell_type": "code",
   "execution_count": 0,
   "metadata": {
    "colab": {},
    "colab_type": "code",
    "id": "Y4sPwvFX8lTR"
   },
   "outputs": [],
   "source": [
    "ratingsDataByCount_3 = ratingsData.groupby('movieId').count()\n",
    "#ratingsDataByCount.show()"
   ]
  },
  {
   "cell_type": "code",
   "execution_count": 0,
   "metadata": {
    "colab": {},
    "colab_type": "code",
    "id": "rnCjlpaV8lTZ"
   },
   "outputs": [],
   "source": [
    "ratingsDataByCount_3 = ratingsDataByCount_3.sort('count', ascending=False)"
   ]
  },
  {
   "cell_type": "code",
   "execution_count": 0,
   "metadata": {
    "colab": {},
    "colab_type": "code",
    "id": "0ypzpTiF8lTg"
   },
   "outputs": [],
   "source": [
    "#selecting the top 2000 most popular movie \n",
    "ratingsDataByCount_3 = ratingsDataByCount_3.limit(2000)"
   ]
  },
  {
   "cell_type": "code",
   "execution_count": 0,
   "metadata": {
    "colab": {},
    "colab_type": "code",
    "id": "dvpugVAi8lTw"
   },
   "outputs": [],
   "source": [
    "#Register the DataFrame as a SQL temporary view\n",
    "ratingsDataByCount_3.createOrReplaceTempView(\"ratingsDataByCount_3\")\n",
    "ratingsData.createOrReplaceTempView(\"ratingsData\")\n",
    "\n",
    "ratingsData_1_3 = spark.sql(\"SELECT ratingsData.movieId, ratingsData.userId, ratingsData.rating FROM ratingsData, ratingsDataByCount_3 where ratingsData.movieId = ratingsDataByCount_3.movieId\")"
   ]
  },
  {
   "cell_type": "code",
   "execution_count": 0,
   "metadata": {
    "colab": {},
    "colab_type": "code",
    "id": "o9tAODY18lT5"
   },
   "outputs": [],
   "source": [
    "ratingsDataByUserCount_3 = ratingsData.groupby('userId').count()\n",
    "ratingsDataByUserCount_3 = ratingsDataByUserCount_3.sort('count', ascending=False)"
   ]
  },
  {
   "cell_type": "code",
   "execution_count": 0,
   "metadata": {
    "colab": {},
    "colab_type": "code",
    "id": "4nZPs-JO8lUB"
   },
   "outputs": [],
   "source": [
    "#Register the DataFrame as a SQL temporary view\n",
    "ratingsDataByUserCount_3.createOrReplaceTempView(\"ratingsDataByUserCount_3\")\n",
    "ratingsData_1_3.createOrReplaceTempView(\"ratingsData_1_3\")\n",
    "\n",
    "ratingsData_2_3 = spark.sql(\"SELECT ratingsData_1_3.movieId, ratingsData_1_3.userId, ratingsData_1_3.rating FROM ratingsDataByUserCount_3, ratingsData_1_3 WHERE ratingsData_1_3.userId = ratingsDataByUserCount_3.userId and ratingsDataByUserCount_3.count > 1500\")"
   ]
  },
  {
   "cell_type": "code",
   "execution_count": 137,
   "metadata": {
    "colab": {
     "base_uri": "https://localhost:8080/",
     "height": 34
    },
    "colab_type": "code",
    "id": "B5MORKGA8lUN",
    "outputId": "a6a92b64-cb15-4b88-cabc-b020dfaf36d3"
   },
   "outputs": [
    {
     "data": {
      "text/plain": [
       "623192"
      ]
     },
     "execution_count": 137,
     "metadata": {
      "tags": []
     },
     "output_type": "execute_result"
    }
   ],
   "source": [
    "ratingsData_2_3.count()"
   ]
  },
  {
   "cell_type": "markdown",
   "metadata": {},
   "source": [
    "# Splitting into training tune (for validation) and test in the ratio 60:20:20\n",
    "\n",
    "\n"
   ]
  },
  {
   "cell_type": "code",
   "execution_count": 0,
   "metadata": {
    "colab": {},
    "colab_type": "code",
    "id": "dQsB_NEG8lUV"
   },
   "outputs": [],
   "source": [
    "(training_3, tune_3, test_3) = ratingsData_2_3.randomSplit([0.6, 0.2, 0.2])"
   ]
  },
  {
   "cell_type": "markdown",
   "metadata": {
    "colab_type": "text",
    "id": "sqqXmBV88lUc"
   },
   "source": [
    "# Tuning hyper-paramters for the sample 4\n"
   ]
  },
  {
   "cell_type": "code",
   "execution_count": 139,
   "metadata": {
    "colab": {
     "base_uri": "https://localhost:8080/",
     "height": 459
    },
    "colab_type": "code",
    "id": "AMdGCdI98lUf",
    "outputId": "04d1caf2-2952-400e-f085-8151c30f28fb"
   },
   "outputs": [
    {
     "name": "stdout",
     "output_type": "stream",
     "text": [
      "10 0.1 5 0.7988163765364675\n",
      "10 0.1 10 0.7782443073844375\n",
      "10 0.05 5 0.7573545258887993\n",
      "10 0.05 10 0.7505198658956018\n",
      "10 0.01 5 0.7566557347079751\n",
      "10 0.01 10 0.7537550027696795\n",
      "20 0.1 5 0.7898549618616025\n",
      "20 0.1 10 0.7760638366041479\n",
      "20 0.05 5 0.7478723689429424\n",
      "20 0.05 10 0.7446067827917199\n",
      "20 0.01 5 0.7815280441842197\n",
      "20 0.01 10 0.7815009643028064\n",
      "30 0.1 5 0.7804653451745364\n",
      "30 0.1 10 0.7733892011959692\n",
      "30 0.05 5 0.7432479938959234\n",
      "30 0.05 10 0.7423358865030417\n",
      "30 0.01 5 0.8033448372020026\n",
      "30 0.01 10 0.8096101416955938\n",
      "40 0.1 5 0.7800640994602744\n",
      "40 0.1 10 0.7732460779814105\n",
      "40 0.05 5 0.7428792014710678\n",
      "40 0.05 10 0.7429209059097138\n",
      "40 0.01 5 0.8267378436386839\n",
      "40 0.01 10 0.837624567759108\n",
      "30 0.05 10 0.7423358865030417\n",
      "ALS on train:\t\t0.74\n"
     ]
    }
   ],
   "source": [
    "#from pyspark import SparkConf, SparkContext\n",
    "#from pyspark.mllib.recommendation import ALS\n",
    "import itertools\n",
    "from math import sqrt\n",
    "import sys\n",
    "from operator import add\n",
    "\n",
    "ranks       = [10,20,30,40]\n",
    "lambdas     = [0.1,0.05,0.01]\n",
    "numIters    = [5,10]\n",
    "temp_3 = []\n",
    "result_3 = []\n",
    "bestModel   = None\n",
    "bestRmse = float(\"inf\")\n",
    "bestRank    = 0\n",
    "bestLambda  = -1.0\n",
    "bestNumIter = -1\n",
    "for rank, lmbda, numIter in itertools.product(ranks, lambdas, numIters):\n",
    "  als = ALS(maxIter=numIter, regParam=lmbda, userCol=\"userId\", itemCol=\"movieId\", ratingCol=\"rating\", coldStartStrategy=\"drop\",implicitPrefs=False, rank=rank)\n",
    "  model = als.fit(training_3)\n",
    "  predictions = model.transform(tune_3)\n",
    "  evaluator = RegressionEvaluator(metricName=\"rmse\", labelCol=\"rating\", predictionCol=\"prediction\")\n",
    "  rmse = evaluator.evaluate(predictions)\n",
    "  temp_3.append(rank)\n",
    "  temp_3.append(lmbda)\n",
    "  temp_3.append(numIter)\n",
    "  temp_3.append(rmse)\n",
    "  result_3.append(temp)\n",
    "  temp_3 = []\n",
    "  print (rank, lmbda, numIter, rmse)\n",
    "  if (rmse < bestRmse):\n",
    "    bestModel = model\n",
    "    bestRmse = rmse\n",
    "    bestRank = rank\n",
    "    bestLambda = lmbda\n",
    "    bestNumIter = numIter\n",
    "print (bestRank, bestLambda, bestNumIter, bestRmse) \n",
    "print (\"ALS on train:\\t\\t%.2f\" % bestRmse)\n"
   ]
  },
  {
   "cell_type": "code",
   "execution_count": 0,
   "metadata": {
    "colab": {},
    "colab_type": "code",
    "id": "0I3EGBaSRTER"
   },
   "outputs": [],
   "source": [
    "result_4 = [[10, 0.1, 5, 0.7988163765364675],\n",
    "[10, 0.1, 10, 0.7782443073844375],\n",
    "[10, 0.05, 5, 0.7573545258887993],\n",
    "[10, 0.05, 10, 0.7505198658956018],\n",
    "[10, 0.01, 5, 0.7566557347079751],\n",
    "[10, 0.01, 10, 0.7537550027696795],\n",
    "[20, 0.1, 5, 0.7898549618616025],\n",
    "[20, 0.1, 10, 0.7760638366041479],\n",
    "[20, 0.05, 5, 0.7478723689429424],\n",
    "[20, 0.05, 10, 0.7446067827917199],\n",
    "[20, 0.01, 5, 0.7815280441842197],\n",
    "[20, 0.01, 10, 0.7815009643028064],\n",
    "[30, 0.1, 5, 0.7804653451745364],\n",
    "[30, 0.1, 10, 0.7733892011959692],\n",
    "[30, 0.05, 5, 0.7432479938959234],\n",
    "[30, 0.05, 10, 0.7423358865030417],\n",
    "[30, 0.01, 5, 0.8033448372020026],\n",
    "[30, 0.01, 10, 0.8096101416955938],\n",
    "[40, 0.1, 5, 0.7800640994602744],\n",
    "[40, 0.1, 10, 0.7732460779814105],\n",
    "[40, 0.05, 5, 0.7428792014710678],\n",
    "[40, 0.05, 10, 0.7429209059097138],\n",
    "[40, 0.01, 5, 0.8267378436386839],\n",
    "[40, 0.01, 10, 0.837624567759108]]"
   ]
  },
  {
   "cell_type": "markdown",
   "metadata": {
    "colab_type": "text",
    "id": "j8P-YjrCfz3y"
   },
   "source": [
    "# Calculating accuracy of predictions on the test data\n",
    "\n"
   ]
  },
  {
   "cell_type": "code",
   "execution_count": 56,
   "metadata": {
    "colab": {
     "base_uri": "https://localhost:8080/",
     "height": 68
    },
    "colab_type": "code",
    "id": "U74w0PsQfz31",
    "outputId": "d1df21e2-d136-4057-f885-a843e2ce04d9"
   },
   "outputs": [
    {
     "name": "stdout",
     "output_type": "stream",
     "text": [
      "Start Time = 2019-11-06 18:14:17.847700\n",
      "End Time = 2019-11-06 18:15:58.829683\n",
      "100.981983\n"
     ]
    }
   ],
   "source": [
    "#Testing it on the test data\n",
    "start = datetime.now()\n",
    "print(\"Start Time =\", start)\n",
    "als = ALS(maxIter=10, regParam=0.05, \n",
    "          userCol=\"userId\", itemCol=\"movieId\", ratingCol=\"rating\",\n",
    "          coldStartStrategy=\"drop\",\n",
    "          implicitPrefs=False, rank=40)\n",
    "model = als.fit(training_3)\n",
    "end = datetime.now()\n",
    "print(\"End Time =\", end)\n",
    "time_4 = (end - start).total_seconds()\n",
    "print(time_4)\n",
    "\n",
    "# Evaluate the model by computing the RMSE on the test data\n",
    "#predictions = model.transform(test_3)\n",
    "#evaluator = RegressionEvaluator(metricName=\"rmse\", labelCol=\"rating\",\n",
    "                                #predictionCol=\"prediction\")\n",
    "\n",
    "#rmse = evaluator.evaluate(predictions)\n",
    "#rmse_4 = rmse\n",
    "#print(\"Root-mean-square error = \" + str(rmse))"
   ]
  },
  {
   "cell_type": "code",
   "execution_count": 188,
   "metadata": {
    "colab": {
     "base_uri": "https://localhost:8080/",
     "height": 34
    },
    "colab_type": "code",
    "id": "5e_facGuiaRZ",
    "outputId": "3baa2935-63ed-4465-9675-596974fea98a"
   },
   "outputs": [
    {
     "name": "stdout",
     "output_type": "stream",
     "text": [
      "Root-squared error = 0.4842083562000332\n"
     ]
    }
   ],
   "source": [
    "#calculating r2 as the secondary metric\n",
    "evaluator = RegressionEvaluator(metricName=\"r2\", labelCol=\"rating\",\n",
    "                                predictionCol=\"prediction\")\n",
    "\n",
    "r2 = evaluator.evaluate(predictions)\n",
    "r2_4 = r2\n",
    "print(\"Root-squared error = \" + str(r2))"
   ]
  },
  {
   "cell_type": "markdown",
   "metadata": {
    "colab_type": "text",
    "id": "pERQ0jFAnyf-"
   },
   "source": [
    "# Coverage for Sample 4"
   ]
  },
  {
   "cell_type": "code",
   "execution_count": 44,
   "metadata": {
    "colab": {
     "base_uri": "https://localhost:8080/",
     "height": 51
    },
    "colab_type": "code",
    "id": "DA2CjJkJnWdO",
    "outputId": "c8f161dd-e580-4615-d44f-794bba1645e4"
   },
   "outputs": [
    {
     "name": "stdout",
     "output_type": "stream",
     "text": [
      "Coverage of movies =0.3675\n",
      "Coverage based on users =0.9360967184801382\n"
     ]
    }
   ],
   "source": [
    "pandasDf = ratingsData_2_3.toPandas()\n",
    "\n",
    "Recs = model.recommendForAllUsers(pandasDf['movieId'].nunique())\n",
    "rec_movies_1 = Recs.toPandas()\n",
    "\n",
    "list1 = []\n",
    "for i in range(len(pandasDf)):\n",
    "  tup1 = (pandasDf['movieId'][i],pandasDf['userId'][i] )\n",
    "  list1.append(tup1)\n",
    "\n",
    "sortkeyfn = itemgetter(1)\n",
    "list1.sort(key=sortkeyfn)\n",
    "\n",
    "result = {}\n",
    "for key,valuesiter in groupby(list1, key=sortkeyfn):\n",
    "    result[key] = list(v[0] for v in valuesiter)\n",
    "\n",
    "#Finding out the top 10 movies based on predicted rating values for movies user hasn't seen.    \n",
    "list6 = []\n",
    "for key,values in result.items():\n",
    "  list5 = []\n",
    "  x = list(rec_movies_1[rec_movies_1[\"userId\"]==key][\"recommendations\"])\n",
    "  for s1,s2 in x[0]:\n",
    "    if s1 in values:\n",
    "      continue\n",
    "    else:\n",
    "      if len(list5) == 10:\n",
    "        break\n",
    "      else:\n",
    "        list5.append((s1,s2))\n",
    "  list6.append((key,list5))\n",
    "\n",
    "l1= []\n",
    "for i in list6:\n",
    "  user = i[0]\n",
    "  for j in i[1]:\n",
    "    l1.append([user,j[0]])\n",
    "recoms = pd.DataFrame(l1,columns = ['UserId', 'Movie_Recs'])\n",
    "\n",
    "Coverage_movies_4 = (recoms.iloc[:,1].nunique())/(pandasDf.iloc[:,0].nunique())\n",
    "print(\"Coverage of movies =\" + str(Coverage_movies_4))\n",
    "\n",
    "list_b = []\n",
    "count = 0\n",
    "for i in list6:\n",
    "  user = i[0]\n",
    "  count1 = 0\n",
    "  for j in i[1]:\n",
    "    if j[1] >= 3.5:\n",
    "      count1+=1\n",
    "  if(count1 == 10):\n",
    "    list_b.append(user)\n",
    "    count = count + 1 \n",
    "\n",
    "Coverage_users_4 = (count)/(pandasDf.iloc[:,1].nunique())\n",
    "print(\"Coverage based on users =\" + str(Coverage_users_4))"
   ]
  },
  {
   "cell_type": "markdown",
   "metadata": {
    "colab_type": "text",
    "id": "I8UbL-Umns_Q"
   },
   "source": [
    "# Plots"
   ]
  },
  {
   "cell_type": "code",
   "execution_count": 0,
   "metadata": {
    "colab": {},
    "colab_type": "code",
    "id": "Pb6JoMIb4n7_"
   },
   "outputs": [],
   "source": [
    "import matplotlib.pyplot as plt\n",
    "import pandas as pd\n",
    "import numpy as np"
   ]
  },
  {
   "cell_type": "code",
   "execution_count": 0,
   "metadata": {
    "colab": {},
    "colab_type": "code",
    "id": "4xP7wFAdYLQo"
   },
   "outputs": [],
   "source": [
    "df_1 = pd.DataFrame.from_records(result)\n",
    "df_1.columns = ['Rank','Lambda','NumOfIters','RMSE']\n",
    "\n",
    "df_2 = pd.DataFrame.from_records(result_2)\n",
    "df_2.columns = ['Rank','Lambda','NumOfIters','RMSE']\n",
    "\n",
    "df_3 = pd.DataFrame.from_records(result_3)\n",
    "df_3.columns = ['Rank','Lambda','NumOfIters','RMSE']\n",
    "\n",
    "df_4 = pd.DataFrame.from_records(result_4)\n",
    "df_4.columns = ['Rank','Lambda','NumOfIters','RMSE']"
   ]
  },
  {
   "cell_type": "code",
   "execution_count": 0,
   "metadata": {
    "colab": {},
    "colab_type": "code",
    "id": "kQjEBMeZYaIK"
   },
   "outputs": [],
   "source": [
    "df_1_Rank = df_1.groupby('Rank').min()\n",
    "df_2_Rank = df_2.groupby('Rank').min()\n",
    "df_3_Rank = df_3.groupby('Rank').min()\n",
    "df_4_Rank = df_4.groupby('Rank').min()"
   ]
  },
  {
   "cell_type": "markdown",
   "metadata": {
    "colab_type": "text",
    "id": "d8c8i6yk0Zhc"
   },
   "source": [
    "# Plot for Ranks vs RMSE - this graph shows us the best value of rank for the different samples "
   ]
  },
  {
   "cell_type": "code",
   "execution_count": 161,
   "metadata": {
    "colab": {
     "base_uri": "https://localhost:8080/",
     "height": 312
    },
    "colab_type": "code",
    "id": "ggwWWM12Y6M3",
    "outputId": "8d2d75d8-8c91-47f6-e897-9ee67e9743bb"
   },
   "outputs": [
    {
     "data": {
      "text/plain": [
       "<matplotlib.legend.Legend at 0x7f7693bcdf98>"
      ]
     },
     "execution_count": 161,
     "metadata": {
      "tags": []
     },
     "output_type": "execute_result"
    },
    {
     "data": {
      "image/png": "[encoded data removed]",
      "text/plain": [
       "<Figure size 432x288 with 1 Axes>"
      ]
     },
     "metadata": {
      "tags": []
     },
     "output_type": "display_data"
    }
   ],
   "source": [
    "plt.plot(df_1_Rank.index, df_1_Rank['RMSE'], color=\"red\", label=\"Sample 1\")\n",
    "plt.plot(df_2_Rank.index, df_2_Rank['RMSE'], color=\"blue\", label=\"Sample 2\")\n",
    "plt.plot(df_3_Rank.index, df_3_Rank['RMSE'], color=\"green\", label=\"Sample 3\")\n",
    "plt.plot(df_4_Rank.index, df_4_Rank['RMSE'], color=\"orange\", label=\"Sample 4\")\n",
    "\n",
    "plt.xlabel(\"Rank\")\n",
    "plt.ylabel(\"RMSE\")\n",
    "\n",
    "plt.title(\"Ranks vs RMSE for different samples\")\n",
    "plt.legend(loc=\"best\")"
   ]
  },
  {
   "cell_type": "code",
   "execution_count": 0,
   "metadata": {
    "colab": {},
    "colab_type": "code",
    "id": "CU9XVaqVZC5s"
   },
   "outputs": [],
   "source": [
    "df_1_lambda = df_1.groupby('Lambda').min()\n",
    "df_2_lambda = df_2.groupby('Lambda').min()\n",
    "df_3_lambda = df_3.groupby('Lambda').min()\n",
    "df_4_lambda = df_4.groupby('Lambda').min()"
   ]
  },
  {
   "cell_type": "markdown",
   "metadata": {
    "colab_type": "text",
    "id": "ZNaGRAzd0rth"
   },
   "source": [
    "# Plot for Lambda vs RMSE - this graph shows us the best value of lambda for the different samples "
   ]
  },
  {
   "cell_type": "code",
   "execution_count": 163,
   "metadata": {
    "colab": {
     "base_uri": "https://localhost:8080/",
     "height": 312
    },
    "colab_type": "code",
    "id": "TcqMSxbHZ-dM",
    "outputId": "8d61f035-a43d-4e97-fae7-9124341e0ba4"
   },
   "outputs": [
    {
     "data": {
      "text/plain": [
       "<matplotlib.legend.Legend at 0x7f7693b5f4e0>"
      ]
     },
     "execution_count": 163,
     "metadata": {
      "tags": []
     },
     "output_type": "execute_result"
    },
    {
     "data": {
      "image/png": "[encoded data removed]",
      "text/plain": [
       "<Figure size 432x288 with 1 Axes>"
      ]
     },
     "metadata": {
      "tags": []
     },
     "output_type": "display_data"
    }
   ],
   "source": [
    "plt.plot(df_1_lambda.index, df_1_lambda['RMSE'], color=\"red\", label=\"Sample 1\")\n",
    "plt.plot(df_2_lambda.index, df_2_lambda['RMSE'], color=\"blue\", label=\"Sample 2\")\n",
    "plt.plot(df_3_lambda.index, df_3_lambda['RMSE'], color=\"green\", label=\"Sample 3\")\n",
    "plt.plot(df_4_lambda.index, df_4_lambda['RMSE'], color=\"orange\", label=\"Sample 4\")\n",
    "\n",
    "plt.xlabel(\"Lambda\")\n",
    "plt.ylabel(\"RMSE\")\n",
    "\n",
    "plt.title(\"Lambda vs RMSE for different samples\")\n",
    "plt.legend(loc=\"best\")"
   ]
  },
  {
   "cell_type": "code",
   "execution_count": 0,
   "metadata": {
    "colab": {},
    "colab_type": "code",
    "id": "x1BbPwfhaJa7"
   },
   "outputs": [],
   "source": [
    "df_1_numOfIters = df_1.groupby('NumOfIters').min()\n",
    "df_2_numOfIters = df_2.groupby('NumOfIters').min()\n",
    "df_3_numOfIters = df_3.groupby('NumOfIters').min()\n",
    "df_4_numOfIters = df_4.groupby('NumOfIters').min()"
   ]
  },
  {
   "cell_type": "markdown",
   "metadata": {
    "colab_type": "text",
    "id": "8dO21ON304wa"
   },
   "source": [
    "# Plot for Number of Iterations vs RMSE - this graph shows us the best value for the number of interations for the different samples "
   ]
  },
  {
   "cell_type": "code",
   "execution_count": 168,
   "metadata": {
    "colab": {
     "base_uri": "https://localhost:8080/",
     "height": 312
    },
    "colab_type": "code",
    "id": "rSFlL32KaYE2",
    "outputId": "d04b2c36-bd06-4d1b-cc7a-ab4c7dd46c9c"
   },
   "outputs": [
    {
     "data": {
      "text/plain": [
       "<matplotlib.legend.Legend at 0x7f7691233f60>"
      ]
     },
     "execution_count": 168,
     "metadata": {
      "tags": []
     },
     "output_type": "execute_result"
    },
    {
     "data": {
      "image/png": "[encoded data removed]",
      "text/plain": [
       "<Figure size 432x288 with 1 Axes>"
      ]
     },
     "metadata": {
      "tags": []
     },
     "output_type": "display_data"
    }
   ],
   "source": [
    "plt.plot(df_1_numOfIters.index, df_1_numOfIters['RMSE'], color=\"red\", label=\"Sample 1\")\n",
    "plt.plot(df_2_numOfIters.index, df_2_numOfIters['RMSE'], color=\"blue\", label=\"Sample 2\")\n",
    "plt.plot(df_3_numOfIters.index, df_3_numOfIters['RMSE'], color=\"green\", label=\"Sample 3\")\n",
    "plt.plot(df_4_numOfIters.index, df_4_numOfIters['RMSE'], color=\"orange\", label=\"Sample 4\")\n",
    "\n",
    "plt.xlabel(\"Number of Iterations\")\n",
    "plt.ylabel(\"RMSE\")\n",
    "\n",
    "plt.title(\"Number of Iterations vs RMSE for different samples\")\n",
    "plt.legend(loc=\"best\")"
   ]
  },
  {
   "cell_type": "markdown",
   "metadata": {
    "colab_type": "text",
    "id": "3685pi2E0-Cn"
   },
   "source": [
    "# Inference of the plots\n",
    "The above graphs shows us that the best value for our regression paramter (lambda) is 0.05. \n",
    "For ranks the best value comes at either 30 or 40. \n",
    "For number of iterations, the best value generally comes at 10. \n"
   ]
  },
  {
   "cell_type": "markdown",
   "metadata": {
    "colab_type": "text",
    "id": "CWQr0NSj1jfU"
   },
   "source": [
    "# Comparing the accuracy metrics for the different samples "
   ]
  },
  {
   "cell_type": "code",
   "execution_count": 221,
   "metadata": {
    "colab": {
     "base_uri": "https://localhost:8080/",
     "height": 312
    },
    "colab_type": "code",
    "id": "iw9tw1e6oB_y",
    "outputId": "51edb7af-5413-48b7-e437-a352ecb3af82"
   },
   "outputs": [
    {
     "data": {
      "text/plain": [
       "Text(0.5, 1.0, 'RMSE of the different samples')"
      ]
     },
     "execution_count": 221,
     "metadata": {
      "tags": []
     },
     "output_type": "execute_result"
    },
    {
     "data": {
      "image/png": "[encoded data removed]",
      "text/plain": [
       "<Figure size 432x288 with 1 Axes>"
      ]
     },
     "metadata": {
      "tags": []
     },
     "output_type": "display_data"
    }
   ],
   "source": [
    "#from the baseline.ipynb we use the following values of our baseline model (evaluation metric = RMSE)\n",
    "baseline_rmse = [1.0176954407887222, 1.0192983415161732, 1.0271992072986997, 1.031131960344556]\n",
    "sample_list = ['Sample 1', 'Sample 2', 'Sample 3', 'Sample 4']\n",
    "\n",
    "baseline_df = pd.DataFrame(baseline_rmse, sample_list)\n",
    "plt.plot(baseline_df, marker='o')\n",
    "plt.xlabel(\"Samples\")\n",
    "plt.ylabel(\"RMSE\")\n",
    "plt.title(\"RMSE of the different samples\")\n",
    "\n",
    "rmse_list = [rmse_1, rmse_2, rmse_3, rmse_4]\n",
    "\n",
    "rmse_df = pd.DataFrame(rmse_list, sample_list)\n",
    "plt.plot(rmse_df, marker='o')\n",
    "plt.xlabel(\"Samples\")\n",
    "plt.ylabel(\"RMSE\")\n",
    "plt.yticks(np.arange(0.7,1.15,step=0.03))\n",
    "plt.title(\"RMSE of the different samples\")"
   ]
  },
  {
   "cell_type": "code",
   "execution_count": 199,
   "metadata": {
    "colab": {
     "base_uri": "https://localhost:8080/",
     "height": 312
    },
    "colab_type": "code",
    "id": "ULj9jg_pm9Ku",
    "outputId": "e2022fa3-4ce0-482e-e0b1-d71d829be179"
   },
   "outputs": [
    {
     "data": {
      "text/plain": [
       "Text(0.5, 1.0, 'R2 of the different samples')"
      ]
     },
     "execution_count": 199,
     "metadata": {
      "tags": []
     },
     "output_type": "execute_result"
    },
    {
     "data": {
      "image/png": "[encoded data removed]",
      "text/plain": [
       "<Figure size 432x288 with 1 Axes>"
      ]
     },
     "metadata": {
      "tags": []
     },
     "output_type": "display_data"
    }
   ],
   "source": [
    "r2_list = [r2_1, r2_2, r2_3, r2_4]\n",
    "\n",
    "r2_df = pd.DataFrame(r2_list, sample_list)\n",
    "\n",
    "plt.plot(r2_df)\n",
    "plt.xlabel(\"Samples\")\n",
    "plt.ylabel(\"R2\")\n",
    "plt.title(\"R2 of the different samples\")"
   ]
  },
  {
   "cell_type": "markdown",
   "metadata": {
    "colab_type": "text",
    "id": "osqxDSd31u48"
   },
   "source": [
    "# Inference of RMSE and R2 \n",
    "Here we can see that for all our samples, the model performs better than the baseline. Baseline for the samples is plotted as the blue line and the RMSE for our model is plotted as the orange line. \n",
    "For all our samples, the RMSE value is almost the same at approximately ~0.75. \n",
    "However, the accuracy does change with change in the sample. \n",
    "\n",
    "For R2, the value also changes with change in the sample. For this case, the value of R2 keeps increasing, that means that our model's accuracy becomes better. "
   ]
  },
  {
   "cell_type": "markdown",
   "metadata": {
    "colab_type": "text",
    "id": "9kn1dD0C2t5l"
   },
   "source": [
    "# Running time for training the different samples"
   ]
  },
  {
   "cell_type": "code",
   "execution_count": 57,
   "metadata": {
    "colab": {
     "base_uri": "https://localhost:8080/",
     "height": 312
    },
    "colab_type": "code",
    "id": "GL5yaSDXg9vK",
    "outputId": "a7d631b5-e8a2-4822-8445-5f693b1b4978"
   },
   "outputs": [
    {
     "data": {
      "text/plain": [
       "Text(0.5, 1.0, 'Running time of the different samples')"
      ]
     },
     "execution_count": 57,
     "metadata": {
      "tags": []
     },
     "output_type": "execute_result"
    },
    {
     "data": {
      "image/png": "[encoded data removed]",
      "text/plain": [
       "<Figure size 432x288 with 1 Axes>"
      ]
     },
     "metadata": {
      "tags": []
     },
     "output_type": "display_data"
    }
   ],
   "source": [
    "time_list = [time_1, time_2, time_3, time_4]\n",
    "\n",
    "time_df = pd.DataFrame(time_list, sample_list)\n",
    "\n",
    "plt.plot(time_df)\n",
    "plt.xlabel(\"Samples\")\n",
    "plt.ylabel(\"Running Time to train the data (secs)\")\n",
    "plt.title(\"Running time of the different samples\")"
   ]
  },
  {
   "cell_type": "markdown",
   "metadata": {
    "colab_type": "text",
    "id": "yG2ihfKu2kww"
   },
   "source": [
    "# Plotting the coverage for our samples"
   ]
  },
  {
   "cell_type": "code",
   "execution_count": 46,
   "metadata": {
    "colab": {
     "base_uri": "https://localhost:8080/",
     "height": 312
    },
    "colab_type": "code",
    "id": "uOi3zENkhNYV",
    "outputId": "dcd3b78a-14c9-4104-9a55-1bf09f48e0a6"
   },
   "outputs": [
    {
     "data": {
      "text/plain": [
       "Text(0.5, 1.0, 'Coverage of user for the different samples')"
      ]
     },
     "execution_count": 46,
     "metadata": {
      "tags": []
     },
     "output_type": "execute_result"
    },
    {
     "data": {
      "image/png": "[encoded data removed]",
      "text/plain": [
       "<Figure size 432x288 with 1 Axes>"
      ]
     },
     "metadata": {
      "tags": []
     },
     "output_type": "display_data"
    }
   ],
   "source": [
    "coverage_user_list = [Coverage_users_1, Coverage_users_2, Coverage_users_3, Coverage_users_4]\n",
    "sample_list = ['Sample 1', 'Sample 2', 'Sample 3', 'Sample 4']\n",
    "\n",
    "coverage_users_df = pd.DataFrame(coverage_user_list, sample_list)\n",
    "\n",
    "plt.plot(coverage_users_df)\n",
    "plt.xlabel(\"Samples\")\n",
    "plt.ylabel(\"Coverage of users\")\n",
    "plt.title(\"Coverage of user for the different samples\")"
   ]
  },
  {
   "cell_type": "code",
   "execution_count": 48,
   "metadata": {
    "colab": {
     "base_uri": "https://localhost:8080/",
     "height": 312
    },
    "colab_type": "code",
    "id": "snlJbjyOptee",
    "outputId": "c1bb8636-0b4e-46db-ef48-0396b5365e73"
   },
   "outputs": [
    {
     "data": {
      "text/plain": [
       "Text(0.5, 1.0, 'Coverage of movies for the different samples')"
      ]
     },
     "execution_count": 48,
     "metadata": {
      "tags": []
     },
     "output_type": "execute_result"
    },
    {
     "data": {
      "image/png": "[encoded data removed]",
      "text/plain": [
       "<Figure size 432x288 with 1 Axes>"
      ]
     },
     "metadata": {
      "tags": []
     },
     "output_type": "display_data"
    }
   ],
   "source": [
    "coverage_movies_list = [Coverage_movies_1, Coverage_movies_2, Coverage_movies_3, Coverage_movies_4]\n",
    "\n",
    "coverage_movies_df = pd.DataFrame(coverage_movies_list, sample_list)\n",
    "\n",
    "plt.plot(coverage_movies_df)\n",
    "plt.xlabel(\"Samples\")\n",
    "plt.ylabel(\"Coverage of movies\")\n",
    "plt.title(\"Coverage of movies for the different samples\")"
   ]
  },
  {
   "cell_type": "markdown",
   "metadata": {
    "colab_type": "text",
    "id": "b9eDNppG23zm"
   },
   "source": [
    "The above graphs tell us that as our sample size increases, we are covering more and more users, but we are covering lesser number of movies. \n",
    "We think this is the case because we are concentrating more on the popular movies because of which we are leaving out the ones that have been rated lesser number of times. "
   ]
  },
  {
   "cell_type": "code",
   "execution_count": 0,
   "metadata": {
    "colab": {},
    "colab_type": "code",
    "id": "dlu0no6Zp8wv"
   },
   "outputs": [],
   "source": []
  }
 ],
 "metadata": {
  "colab": {
   "collapsed_sections": [],
   "name": "ALS with validation and plots.ipynb",
   "provenance": []
  },
  "kernelspec": {
   "display_name": "Python 3",
   "language": "python",
   "name": "python3"
  },
  "language_info": {
   "codemirror_mode": {
    "name": "ipython",
    "version": 3
   },
   "file_extension": ".py",
   "mimetype": "text/x-python",
   "name": "python",
   "nbconvert_exporter": "python",
   "pygments_lexer": "ipython3",
   "version": "3.7.3"
  }
 },
 "nbformat": 4,
 "nbformat_minor": 1
}
